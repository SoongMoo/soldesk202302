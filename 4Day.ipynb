{
 "cells": [
  {
   "cell_type": "code",
   "execution_count": 1,
   "id": "1d95ba7e",
   "metadata": {},
   "outputs": [
    {
     "name": "stderr",
     "output_type": "stream",
     "text": [
      "C:\\Users\\soldesk\\AppData\\Local\\Temp\\ipykernel_3588\\1014303460.py:1: DeprecationWarning: Importing display from IPython.core.display is deprecated since IPython 7.14, please import from IPython display\n",
      "  from IPython.core.display import display, HTML\n"
     ]
    },
    {
     "data": {
      "text/html": [
       "<style>\n",
       "div.container { width:100% !important; }\n",
       "div.CodeMirror {font-family: Consolas; font-size: 30pt;}\n",
       "div.output { font-size: 20pt; font-weight: bold;}\n",
       "div.input { font-family: Consolas; font-size: 30pt;}\n",
       "div.prompt { min-width: 100px;}\n",
       "</style>\n"
      ],
      "text/plain": [
       "<IPython.core.display.HTML object>"
      ]
     },
     "metadata": {},
     "output_type": "display_data"
    }
   ],
   "source": [
    "from IPython.core.display import display, HTML\n",
    "display(HTML(\n",
    "\"\"\"<style>\n",
    "div.container { width:100% !important; }\n",
    "div.CodeMirror {font-family: Consolas; font-size: 30pt;}\n",
    "div.output { font-size: 20pt; font-weight: bold;}\n",
    "div.input { font-family: Consolas; font-size: 30pt;}\n",
    "div.prompt { min-width: 100px;}\n",
    "</style>\n",
    "\"\"\"))"
   ]
  },
  {
   "cell_type": "code",
   "execution_count": 9,
   "id": "4dcc9f67",
   "metadata": {},
   "outputs": [],
   "source": [
    "##### 변수, 함수를 하나로 묶어 놓고 반복적으로 사용: class\n",
    "'''\n",
    "a = 1;\n",
    "def f(x):\n",
    "    return 3*x + 3\n",
    "'''\n",
    "class Calculator:\n",
    "    result = 10 # 변수\n",
    "    def add(self, num): # 함수\n",
    "        self.result += num      "
   ]
  },
  {
   "cell_type": "code",
   "execution_count": 12,
   "id": "20382b38",
   "metadata": {},
   "outputs": [
    {
     "name": "stdout",
     "output_type": "stream",
     "text": [
      "10\n",
      "30\n"
     ]
    }
   ],
   "source": [
    "cal = Calculator() # result, add(20)\n",
    "print(cal.result)\n",
    "cal.add(20)\n",
    "print(cal.result)"
   ]
  },
  {
   "cell_type": "code",
   "execution_count": 13,
   "id": "38366a58",
   "metadata": {},
   "outputs": [
    {
     "name": "stdout",
     "output_type": "stream",
     "text": [
      "10\n",
      "25\n"
     ]
    }
   ],
   "source": [
    "cal1 = Calculator() # result, add(15)\n",
    "print(cal1.result)\n",
    "cal1.add(15)\n",
    "print(cal1.result)"
   ]
  },
  {
   "cell_type": "code",
   "execution_count": 14,
   "id": "705bad97",
   "metadata": {},
   "outputs": [
    {
     "name": "stdout",
     "output_type": "stream",
     "text": [
      "30\n"
     ]
    }
   ],
   "source": [
    "print(cal.result)"
   ]
  },
  {
   "cell_type": "code",
   "execution_count": 15,
   "id": "a3e59bbb",
   "metadata": {},
   "outputs": [
    {
     "name": "stdout",
     "output_type": "stream",
     "text": [
      "25\n"
     ]
    }
   ],
   "source": [
    "print(cal1.result)"
   ]
  },
  {
   "cell_type": "code",
   "execution_count": 16,
   "id": "1e7fcbae",
   "metadata": {},
   "outputs": [
    {
     "name": "stdout",
     "output_type": "stream",
     "text": [
      "10\n"
     ]
    }
   ],
   "source": [
    "cal2 = Calculator() # 객체 : result, add()\n",
    "print(cal2.result)"
   ]
  },
  {
   "cell_type": "code",
   "execution_count": 18,
   "id": "eb15689c",
   "metadata": {},
   "outputs": [
    {
     "name": "stdout",
     "output_type": "stream",
     "text": [
      "46\n"
     ]
    }
   ],
   "source": [
    "result = 10\n",
    "result += 11\n",
    "result += 12\n",
    "result += 13\n",
    "print(result)"
   ]
  },
  {
   "cell_type": "code",
   "execution_count": 20,
   "id": "dc3840b6",
   "metadata": {},
   "outputs": [
    {
     "name": "stdout",
     "output_type": "stream",
     "text": [
      "6\n"
     ]
    }
   ],
   "source": [
    "result1 = 1\n",
    "result1 += 2\n",
    "result1 += 3\n",
    "print(result1)"
   ]
  },
  {
   "cell_type": "code",
   "execution_count": 21,
   "id": "2bc21a4f",
   "metadata": {},
   "outputs": [
    {
     "name": "stdout",
     "output_type": "stream",
     "text": [
      "46\n",
      "6\n"
     ]
    }
   ],
   "source": [
    "print(result)\n",
    "print(result1)"
   ]
  },
  {
   "cell_type": "code",
   "execution_count": 22,
   "id": "1ec63306",
   "metadata": {},
   "outputs": [],
   "source": [
    "result = 10\n",
    "def add(num):\n",
    "    global result\n",
    "    result += num"
   ]
  },
  {
   "cell_type": "code",
   "execution_count": 23,
   "id": "170f6189",
   "metadata": {},
   "outputs": [
    {
     "name": "stdout",
     "output_type": "stream",
     "text": [
      "19\n"
     ]
    }
   ],
   "source": [
    "add(2)\n",
    "add(3)\n",
    "add(4)\n",
    "print(result)"
   ]
  },
  {
   "cell_type": "code",
   "execution_count": 24,
   "id": "7c6ed5d8",
   "metadata": {},
   "outputs": [],
   "source": [
    "result1 = 1\n",
    "def add1(num):\n",
    "    global  result1\n",
    "    result1 += num"
   ]
  },
  {
   "cell_type": "code",
   "execution_count": 25,
   "id": "72c96aa2",
   "metadata": {},
   "outputs": [
    {
     "name": "stdout",
     "output_type": "stream",
     "text": [
      "61\n"
     ]
    }
   ],
   "source": [
    "add1(10)\n",
    "add1(20)\n",
    "add1(30)\n",
    "print(result1)"
   ]
  },
  {
   "cell_type": "code",
   "execution_count": null,
   "id": "3177e511",
   "metadata": {},
   "outputs": [],
   "source": [
    "result2 = 1\n",
    "def add2(num):\n",
    "    global  result1\n",
    "    result1 += num"
   ]
  },
  {
   "cell_type": "code",
   "execution_count": 26,
   "id": "9f9e7dec",
   "metadata": {},
   "outputs": [],
   "source": [
    "# class내에 있는 함수의 매개변수 self\n",
    "class Calculator:\n",
    "    result = 0 # 멤버변수, 멤버필드\n",
    "    def add(self, num): # self는 멤버필드임을 나타내주기 위해서 사용\n",
    "        self.result = num # 객체자신을 나타내기위한 매개변수\n",
    "        # 자바에서는 self(명시적)와 같은 것이 this(암시적)        "
   ]
  },
  {
   "cell_type": "code",
   "execution_count": 30,
   "id": "a00c23c4",
   "metadata": {},
   "outputs": [
    {
     "name": "stdout",
     "output_type": "stream",
     "text": [
      "1\n",
      "2\n"
     ]
    }
   ],
   "source": [
    "cal1 = Calculator() # result, add()\n",
    "cal2 = Calculator()\n",
    "cal1.add(1) # Calculator.add(cal1, 1)\n",
    "print(cal1.result)\n",
    "Calculator.add(cal1, 2)\n",
    "print(cal1.result)\n",
    "cal2.add(100) # Calculator.add(cal2, 100)"
   ]
  },
  {
   "cell_type": "code",
   "execution_count": 31,
   "id": "b0863452",
   "metadata": {},
   "outputs": [
    {
     "name": "stdout",
     "output_type": "stream",
     "text": [
      "30\n"
     ]
    }
   ],
   "source": [
    "cal3 = Calculator()\n",
    "cal3.add(30)\n",
    "print(cal3.result)"
   ]
  },
  {
   "cell_type": "code",
   "execution_count": 42,
   "id": "e7560615",
   "metadata": {},
   "outputs": [],
   "source": [
    "# 멤버 필드 초기화\n",
    "class FourCal:\n",
    "    #first\n",
    "    #second\n",
    "    #result\n",
    "    def setData(self, num1, num2):\n",
    "        self.first = num1 # 초기화\n",
    "        self.second = num2\n",
    "    def add(self):\n",
    "        self.result = self.first + self.second\n",
    "    def sub(self):\n",
    "        self.result = self.first - self.second    \n",
    "    def mul(self):\n",
    "        self.result = self.first * self.second\n",
    "    def div(self):\n",
    "        self.result = self.first / self.second"
   ]
  },
  {
   "cell_type": "code",
   "execution_count": 43,
   "id": "6805df46",
   "metadata": {},
   "outputs": [
    {
     "name": "stdout",
     "output_type": "stream",
     "text": [
      "10\n",
      "20\n",
      "30\n"
     ]
    }
   ],
   "source": [
    "cal = FourCal()\n",
    "cal.setData(10, 20) # FourCal.setData(cal, 10, 20)\n",
    "print(cal.first)\n",
    "print(cal.second)\n",
    "cal.add() # FourCal.add(cal)\n",
    "print(cal.result)"
   ]
  },
  {
   "cell_type": "code",
   "execution_count": 44,
   "id": "ac53b54a",
   "metadata": {},
   "outputs": [
    {
     "name": "stdout",
     "output_type": "stream",
     "text": [
      "300\n"
     ]
    }
   ],
   "source": [
    "cal1 = FourCal()\n",
    "FourCal.setData(cal1, 100, 200)\n",
    "FourCal.add(cal1)\n",
    "print(cal1.result)"
   ]
  },
  {
   "cell_type": "code",
   "execution_count": 47,
   "id": "e1a789a6",
   "metadata": {},
   "outputs": [
    {
     "name": "stdout",
     "output_type": "stream",
     "text": [
      "10\n"
     ]
    }
   ],
   "source": [
    "cal2 = FourCal()\n",
    "#print(cal2.first) \n",
    "# 멤버필드를 사용하기 위해서는 초기화가 필요\n",
    "cal2.setData(10, 20) # 멤버필드를 초기화 하기 위한 함수\n",
    "print(cal2.first)"
   ]
  },
  {
   "cell_type": "code",
   "execution_count": null,
   "id": "935421a4",
   "metadata": {},
   "outputs": [],
   "source": [
    "cal3 = FourCal()\n",
    "cal3.setData(10, 20)"
   ]
  },
  {
   "cell_type": "code",
   "execution_count": 48,
   "id": "2f0628a8",
   "metadata": {},
   "outputs": [],
   "source": [
    "class FourCal1:\n",
    "    def __init__(self, num1, num2):\n",
    "        self.first = num1 # 초기화\n",
    "        self.second = num2\n",
    "    def add(self):\n",
    "        self.result = self.first + self.second\n",
    "    def sub(self):\n",
    "        self.result = self.first - self.second    \n",
    "    def mul(self):\n",
    "        self.result = self.first * self.second\n",
    "    def div(self):\n",
    "        self.result = self.first / self.second"
   ]
  },
  {
   "cell_type": "code",
   "execution_count": 51,
   "id": "c9c7a839",
   "metadata": {},
   "outputs": [
    {
     "name": "stdout",
     "output_type": "stream",
     "text": [
      "10\n"
     ]
    }
   ],
   "source": [
    "# __init__는 객체가 생성이 될때 자동으로 실행되는 함수\n",
    "# 생성자 : 객체생성시에 멤버필드를 초기화 해주는 함수\n",
    "cal4 = FourCal1(10,20) \n",
    "print(cal4.first)"
   ]
  },
  {
   "cell_type": "code",
   "execution_count": 53,
   "id": "a9ebea87",
   "metadata": {},
   "outputs": [
    {
     "ename": "TypeError",
     "evalue": "FourCal1.__init__() missing 2 required positional arguments: 'num1' and 'num2'",
     "output_type": "error",
     "traceback": [
      "\u001b[1;31m---------------------------------------------------------------------------\u001b[0m",
      "\u001b[1;31mTypeError\u001b[0m                                 Traceback (most recent call last)",
      "Cell \u001b[1;32mIn[53], line 1\u001b[0m\n\u001b[1;32m----> 1\u001b[0m cal5\u001b[38;5;241m=\u001b[39m \u001b[43mFourCal1\u001b[49m\u001b[43m(\u001b[49m\u001b[43m)\u001b[49m\n\u001b[0;32m      2\u001b[0m \u001b[38;5;66;03m# 생성자가 있는 경우 초기값이 없이 실행시킬 수 없다.\u001b[39;00m\n",
      "\u001b[1;31mTypeError\u001b[0m: FourCal1.__init__() missing 2 required positional arguments: 'num1' and 'num2'"
     ]
    }
   ],
   "source": [
    "# cal5= FourCal1()\n",
    "# 생성자가 있는 경우 초기값이 없이 실행시킬 수 없다."
   ]
  },
  {
   "cell_type": "code",
   "execution_count": 54,
   "id": "f23251a7",
   "metadata": {},
   "outputs": [],
   "source": [
    "# 상속\n",
    "class FourCal1:\n",
    "    def __init__(self, num1, num2):\n",
    "        self.first = num1 # 초기화\n",
    "        self.second = num2\n",
    "    def add(self):\n",
    "        self.result = self.first + self.second\n",
    "    def div(self):\n",
    "        self.result = self.first / self.second"
   ]
  },
  {
   "cell_type": "code",
   "execution_count": 56,
   "id": "8b2834a5",
   "metadata": {},
   "outputs": [
    {
     "name": "stdout",
     "output_type": "stream",
     "text": [
      "\n"
     ]
    }
   ],
   "source": [
    "class MoreFourCal(FourCal1): # 상속\n",
    "    def mul(self):\n",
    "        self.result = self.first * self.second\n",
    "    def sub(self):\n",
    "        self.result = self.first - self.second\n",
    "'''\n",
    "    def __init__(self, num1, num2):\n",
    "        self.first = num1 # 초기화\n",
    "        self.second = num2\n",
    "    def add(self):\n",
    "        self.result = self.first + self.second\n",
    "    def div(self):\n",
    "        self.result = self.first / self.second\n",
    "'''\n",
    "print()"
   ]
  },
  {
   "cell_type": "code",
   "execution_count": 58,
   "id": "d2a439c0",
   "metadata": {},
   "outputs": [
    {
     "name": "stdout",
     "output_type": "stream",
     "text": [
      "40\n",
      "-20\n",
      "300\n",
      "0.3333333333333333\n"
     ]
    }
   ],
   "source": [
    "a5 = MoreFourCal(10, 30)\n",
    "a5.add()\n",
    "print(a5.result)\n",
    "a5.sub()\n",
    "print(a5.result)\n",
    "a5.mul()\n",
    "print(a5.result)\n",
    "a5.div()\n",
    "print(a5.result)\n"
   ]
  },
  {
   "cell_type": "code",
   "execution_count": 59,
   "id": "2ca6defe",
   "metadata": {},
   "outputs": [
    {
     "name": "stdout",
     "output_type": "stream",
     "text": [
      "0.0\n"
     ]
    }
   ],
   "source": [
    "a6 = MoreFourCal(0, 30) \n",
    "a6.div() # result = 0 / 30 # 부정\n",
    "print(a6.result)"
   ]
  },
  {
   "cell_type": "code",
   "execution_count": 60,
   "id": "ebfa6790",
   "metadata": {},
   "outputs": [
    {
     "ename": "ZeroDivisionError",
     "evalue": "division by zero",
     "output_type": "error",
     "traceback": [
      "\u001b[1;31m---------------------------------------------------------------------------\u001b[0m",
      "\u001b[1;31mZeroDivisionError\u001b[0m                         Traceback (most recent call last)",
      "Cell \u001b[1;32mIn[60], line 2\u001b[0m\n\u001b[0;32m      1\u001b[0m a7 \u001b[38;5;241m=\u001b[39m MoreFourCal( \u001b[38;5;241m30\u001b[39m, \u001b[38;5;241m0\u001b[39m)\n\u001b[1;32m----> 2\u001b[0m \u001b[43ma7\u001b[49m\u001b[38;5;241;43m.\u001b[39;49m\u001b[43mdiv\u001b[49m\u001b[43m(\u001b[49m\u001b[43m)\u001b[49m\n\u001b[0;32m      3\u001b[0m \u001b[38;5;28mprint\u001b[39m(a7\u001b[38;5;241m.\u001b[39mresult)\n",
      "Cell \u001b[1;32mIn[54], line 9\u001b[0m, in \u001b[0;36mFourCal1.div\u001b[1;34m(self)\u001b[0m\n\u001b[0;32m      8\u001b[0m \u001b[38;5;28;01mdef\u001b[39;00m \u001b[38;5;21mdiv\u001b[39m(\u001b[38;5;28mself\u001b[39m):\n\u001b[1;32m----> 9\u001b[0m     \u001b[38;5;28mself\u001b[39m\u001b[38;5;241m.\u001b[39mresult \u001b[38;5;241m=\u001b[39m \u001b[38;5;28;43mself\u001b[39;49m\u001b[38;5;241;43m.\u001b[39;49m\u001b[43mfirst\u001b[49m\u001b[43m \u001b[49m\u001b[38;5;241;43m/\u001b[39;49m\u001b[43m \u001b[49m\u001b[38;5;28;43mself\u001b[39;49m\u001b[38;5;241;43m.\u001b[39;49m\u001b[43msecond\u001b[49m\n",
      "\u001b[1;31mZeroDivisionError\u001b[0m: division by zero"
     ]
    }
   ],
   "source": [
    "a7 = MoreFourCal( 30, 0)\n",
    "#a7.div() result = 30 / 0 # 불능\n",
    "#print(a7.result)"
   ]
  },
  {
   "cell_type": "code",
   "execution_count": 64,
   "id": "803c7549",
   "metadata": {},
   "outputs": [],
   "source": [
    "# 오버라이딩\n",
    "class MoreFourCal1(FourCal1):\n",
    "    def mul(self):\n",
    "        self.result = self.first * self.second\n",
    "    def sub(self):\n",
    "        self.result = self.first - self.second\n",
    "    def div(self): # 재정의 \n",
    "        if self.second == 0:\n",
    "            self.result = 0\n",
    "        else:\n",
    "            self.result = self.first / self.second"
   ]
  },
  {
   "cell_type": "code",
   "execution_count": 65,
   "id": "e430783b",
   "metadata": {},
   "outputs": [
    {
     "name": "stdout",
     "output_type": "stream",
     "text": [
      "0\n"
     ]
    }
   ],
   "source": [
    "a7 = MoreFourCal1(10, 0)\n",
    "a7.div() # 재정의된 함수가 실행\n",
    "print(a7.result)"
   ]
  },
  {
   "cell_type": "code",
   "execution_count": 67,
   "id": "03603d97",
   "metadata": {},
   "outputs": [
    {
     "name": "stdout",
     "output_type": "stream",
     "text": [
      "7\n"
     ]
    }
   ],
   "source": [
    "# 모듈\n",
    "# 클래스 , 상수, 변수 , 함수등을 모아 둔 파일\n",
    "import random\n",
    "num = random.randint(0, 14)\n",
    "print(num)"
   ]
  },
  {
   "cell_type": "code",
   "execution_count": 74,
   "id": "05b702be",
   "metadata": {},
   "outputs": [
    {
     "name": "stdout",
     "output_type": "stream",
     "text": [
      "30\n",
      "10\n",
      "120\n",
      "3.141592\n",
      "40\n"
     ]
    }
   ],
   "source": [
    "import mod1\n",
    "z = mod1.sum1(10,20)\n",
    "print(z)\n",
    "print(mod1.a)\n",
    "mod1.dddd.add()\n",
    "print(mod1.dddd.result)\n",
    "print(mod1.PI)\n",
    "aa = mod1.MoreFourCal1(10,30)\n",
    "aa.add()\n",
    "print(aa.result)"
   ]
  },
  {
   "cell_type": "code",
   "execution_count": 76,
   "id": "d925d128",
   "metadata": {},
   "outputs": [
    {
     "name": "stdout",
     "output_type": "stream",
     "text": [
      "30\n",
      "4\n"
     ]
    }
   ],
   "source": [
    "from mod1 import *\n",
    "a = sum1(10,20)\n",
    "print(a)\n",
    "from random import *\n",
    "num = randint(1, 5)\n",
    "print(num)"
   ]
  },
  {
   "cell_type": "code",
   "execution_count": null,
   "id": "628aea46",
   "metadata": {},
   "outputs": [],
   "source": [
    "# 스크래핑"
   ]
  }
 ],
 "metadata": {
  "kernelspec": {
   "display_name": "Python 3 (ipykernel)",
   "language": "python",
   "name": "python3"
  },
  "language_info": {
   "codemirror_mode": {
    "name": "ipython",
    "version": 3
   },
   "file_extension": ".py",
   "mimetype": "text/x-python",
   "name": "python",
   "nbconvert_exporter": "python",
   "pygments_lexer": "ipython3",
   "version": "3.11.2"
  }
 },
 "nbformat": 4,
 "nbformat_minor": 5
}
