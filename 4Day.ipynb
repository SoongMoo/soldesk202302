{
 "cells": [
  {
   "cell_type": "code",
   "execution_count": 1,
   "id": "5ed86f1d",
   "metadata": {},
   "outputs": [
    {
     "name": "stderr",
     "output_type": "stream",
     "text": [
      "C:\\Users\\soldesk\\AppData\\Local\\Temp\\ipykernel_5696\\1014303460.py:1: DeprecationWarning: Importing display from IPython.core.display is deprecated since IPython 7.14, please import from IPython display\n",
      "  from IPython.core.display import display, HTML\n"
     ]
    },
    {
     "data": {
      "text/html": [
       "<style>\n",
       "div.container { width:100% !important; }\n",
       "div.CodeMirror {font-family: Consolas; font-size: 30pt;}\n",
       "div.output { font-size: 20pt; font-weight: bold;}\n",
       "div.input { font-family: Consolas; font-size: 30pt;}\n",
       "div.prompt { min-width: 100px;}\n",
       "</style>\n"
      ],
      "text/plain": [
       "<IPython.core.display.HTML object>"
      ]
     },
     "metadata": {},
     "output_type": "display_data"
    }
   ],
   "source": [
    "from IPython.core.display import display, HTML\n",
    "display(HTML(\n",
    "\"\"\"<style>\n",
    "div.container { width:100% !important; }\n",
    "div.CodeMirror {font-family: Consolas; font-size: 30pt;}\n",
    "div.output { font-size: 20pt; font-weight: bold;}\n",
    "div.input { font-family: Consolas; font-size: 30pt;}\n",
    "div.prompt { min-width: 100px;}\n",
    "</style>\n",
    "\"\"\"))"
   ]
  },
  {
   "cell_type": "code",
   "execution_count": 9,
   "id": "7c6edc16",
   "metadata": {},
   "outputs": [],
   "source": [
    "##### 변수, 함수를 하나로 묶어 놓고 반복적으로 사용: class\n",
    "'''\n",
    "a = 1;\n",
    "def f(x):\n",
    "    return 3*x + 3\n",
    "'''\n",
    "class Calculator:\n",
    "    result = 10 # 변수\n",
    "    def add(self, num): # 함수\n",
    "        self.result += num      "
   ]
  },
  {
   "cell_type": "code",
   "execution_count": 12,
   "id": "b0efd02f",
   "metadata": {},
   "outputs": [
    {
     "name": "stdout",
     "output_type": "stream",
     "text": [
      "10\n",
      "30\n"
     ]
    }
   ],
   "source": [
    "cal = Calculator() # result, add(20)\n",
    "print(cal.result)\n",
    "cal.add(20)\n",
    "print(cal.result)"
   ]
  },
  {
   "cell_type": "code",
   "execution_count": 13,
   "id": "325b5dee",
   "metadata": {},
   "outputs": [
    {
     "name": "stdout",
     "output_type": "stream",
     "text": [
      "10\n",
      "25\n"
     ]
    }
   ],
   "source": [
    "cal1 = Calculator() # result, add(15)\n",
    "print(cal1.result)\n",
    "cal1.add(15)\n",
    "print(cal1.result)"
   ]
  },
  {
   "cell_type": "code",
   "execution_count": 14,
   "id": "4f32c9c1",
   "metadata": {},
   "outputs": [
    {
     "name": "stdout",
     "output_type": "stream",
     "text": [
      "30\n"
     ]
    }
   ],
   "source": [
    "print(cal.result)"
   ]
  },
  {
   "cell_type": "code",
   "execution_count": 15,
   "id": "82adc0fb",
   "metadata": {},
   "outputs": [
    {
     "name": "stdout",
     "output_type": "stream",
     "text": [
      "25\n"
     ]
    }
   ],
   "source": [
    "print(cal1.result)"
   ]
  },
  {
   "cell_type": "code",
   "execution_count": 16,
   "id": "0dd9c957",
   "metadata": {},
   "outputs": [
    {
     "name": "stdout",
     "output_type": "stream",
     "text": [
      "10\n"
     ]
    }
   ],
   "source": [
    "cal2 = Calculator() # 객체 : result, add()\n",
    "print(cal2.result)"
   ]
  },
  {
   "cell_type": "code",
   "execution_count": 18,
   "id": "1950a193",
   "metadata": {},
   "outputs": [
    {
     "name": "stdout",
     "output_type": "stream",
     "text": [
      "46\n"
     ]
    }
   ],
   "source": [
    "result = 10\n",
    "result += 11\n",
    "result += 12\n",
    "result += 13\n",
    "print(result)"
   ]
  },
  {
   "cell_type": "code",
   "execution_count": 20,
   "id": "1b7642b5",
   "metadata": {},
   "outputs": [
    {
     "name": "stdout",
     "output_type": "stream",
     "text": [
      "6\n"
     ]
    }
   ],
   "source": [
    "result1 = 1\n",
    "result1 += 2\n",
    "result1 += 3\n",
    "print(result1)"
   ]
  },
  {
   "cell_type": "code",
   "execution_count": 21,
   "id": "f9e08c9e",
   "metadata": {},
   "outputs": [
    {
     "name": "stdout",
     "output_type": "stream",
     "text": [
      "46\n",
      "6\n"
     ]
    }
   ],
   "source": [
    "print(result)\n",
    "print(result1)"
   ]
  },
  {
   "cell_type": "code",
   "execution_count": 22,
   "id": "2958aa35",
   "metadata": {},
   "outputs": [],
   "source": [
    "result = 10\n",
    "def add(num):\n",
    "    global result\n",
    "    result += num"
   ]
  },
  {
   "cell_type": "code",
   "execution_count": 23,
   "id": "a2676a9a",
   "metadata": {},
   "outputs": [
    {
     "name": "stdout",
     "output_type": "stream",
     "text": [
      "19\n"
     ]
    }
   ],
   "source": [
    "add(2)\n",
    "add(3)\n",
    "add(4)\n",
    "print(result)"
   ]
  },
  {
   "cell_type": "code",
   "execution_count": 24,
   "id": "6d6bcccf",
   "metadata": {},
   "outputs": [],
   "source": [
    "result1 = 1\n",
    "def add1(num):\n",
    "    global  result1\n",
    "    result1 += num"
   ]
  },
  {
   "cell_type": "code",
   "execution_count": 25,
   "id": "423b0e62",
   "metadata": {},
   "outputs": [
    {
     "name": "stdout",
     "output_type": "stream",
     "text": [
      "61\n"
     ]
    }
   ],
   "source": [
    "add1(10)\n",
    "add1(20)\n",
    "add1(30)\n",
    "print(result1)"
   ]
  },
  {
   "cell_type": "code",
   "execution_count": null,
   "id": "5c9a3b87",
   "metadata": {},
   "outputs": [],
   "source": [
    "result2 = 1\n",
    "def add2(num):\n",
    "    global  result1\n",
    "    result1 += num"
   ]
  },
  {
   "cell_type": "code",
   "execution_count": 26,
   "id": "07b641cd",
   "metadata": {},
   "outputs": [],
   "source": [
    "# class내에 있는 함수의 매개변수 self\n",
    "class Calculator:\n",
    "    result = 0 # 멤버변수, 멤버필드\n",
    "    def add(self, num): # self는 멤버필드임을 나타내주기 위해서 사용\n",
    "        self.result = num # 객체자신을 나타내기위한 매개변수\n",
    "        # 자바에서는 self(명시적)와 같은 것이 this(암시적)        "
   ]
  },
  {
   "cell_type": "code",
   "execution_count": 30,
   "id": "d28fd7f0",
   "metadata": {},
   "outputs": [
    {
     "name": "stdout",
     "output_type": "stream",
     "text": [
      "1\n",
      "2\n"
     ]
    }
   ],
   "source": [
    "cal1 = Calculator() # result, add()\n",
    "cal2 = Calculator()\n",
    "cal1.add(1) # Calculator.add(cal1, 1)\n",
    "print(cal1.result)\n",
    "Calculator.add(cal1, 2)\n",
    "print(cal1.result)\n",
    "cal2.add(100) # Calculator.add(cal2, 100)"
   ]
  },
  {
   "cell_type": "code",
   "execution_count": 31,
   "id": "df3f8c7e",
   "metadata": {},
   "outputs": [
    {
     "name": "stdout",
     "output_type": "stream",
     "text": [
      "30\n"
     ]
    }
   ],
   "source": [
    "cal3 = Calculator()\n",
    "cal3.add(30)\n",
    "print(cal3.result)"
   ]
  },
  {
   "cell_type": "code",
   "execution_count": 42,
   "id": "6072ef16",
   "metadata": {},
   "outputs": [],
   "source": [
    "# 멤버 필드 초기화\n",
    "class FourCal:\n",
    "    #first\n",
    "    #second\n",
    "    #result\n",
    "    def setData(self, num1, num2):\n",
    "        self.first = num1 # 초기화\n",
    "        self.second = num2\n",
    "    def add(self):\n",
    "        self.result = self.first + self.second\n",
    "    def sub(self):\n",
    "        self.result = self.first - self.second    \n",
    "    def mul(self):\n",
    "        self.result = self.first * self.second\n",
    "    def div(self):\n",
    "        self.result = self.first / self.second"
   ]
  },
  {
   "cell_type": "code",
   "execution_count": 43,
   "id": "daea6b7c",
   "metadata": {},
   "outputs": [
    {
     "name": "stdout",
     "output_type": "stream",
     "text": [
      "10\n",
      "20\n",
      "30\n"
     ]
    }
   ],
   "source": [
    "cal = FourCal()\n",
    "cal.setData(10, 20) # FourCal.setData(cal, 10, 20)\n",
    "print(cal.first)\n",
    "print(cal.second)\n",
    "cal.add() # FourCal.add(cal)\n",
    "print(cal.result)"
   ]
  },
  {
   "cell_type": "code",
   "execution_count": 44,
   "id": "1f6f8c6d",
   "metadata": {},
   "outputs": [
    {
     "name": "stdout",
     "output_type": "stream",
     "text": [
      "300\n"
     ]
    }
   ],
   "source": [
    "cal1 = FourCal()\n",
    "FourCal.setData(cal1, 100, 200)\n",
    "FourCal.add(cal1)\n",
    "print(cal1.result)"
   ]
  },
  {
   "cell_type": "code",
   "execution_count": 47,
   "id": "1403c076",
   "metadata": {},
   "outputs": [
    {
     "name": "stdout",
     "output_type": "stream",
     "text": [
      "10\n"
     ]
    }
   ],
   "source": [
    "cal2 = FourCal()\n",
    "#print(cal2.first) \n",
    "# 멤버필드를 사용하기 위해서는 초기화가 필요\n",
    "cal2.setData(10, 20) # 멤버필드를 초기화 하기 위한 함수\n",
    "print(cal2.first)"
   ]
  },
  {
   "cell_type": "code",
   "execution_count": null,
   "id": "ae53619a",
   "metadata": {},
   "outputs": [],
   "source": [
    "cal3 = FourCal()\n",
    "cal3.setData(10, 20)"
   ]
  },
  {
   "cell_type": "code",
   "execution_count": 48,
   "id": "5df3d8a8",
   "metadata": {},
   "outputs": [],
   "source": [
    "class FourCal1:\n",
    "    def __init__(self, num1, num2):\n",
    "        self.first = num1 # 초기화\n",
    "        self.second = num2\n",
    "    def add(self):\n",
    "        self.result = self.first + self.second\n",
    "    def sub(self):\n",
    "        self.result = self.first - self.second    \n",
    "    def mul(self):\n",
    "        self.result = self.first * self.second\n",
    "    def div(self):\n",
    "        self.result = self.first / self.second"
   ]
  },
  {
   "cell_type": "code",
   "execution_count": 51,
   "id": "52954c56",
   "metadata": {},
   "outputs": [
    {
     "name": "stdout",
     "output_type": "stream",
     "text": [
      "10\n"
     ]
    }
   ],
   "source": [
    "# __init__는 객체가 생성이 될때 자동으로 실행되는 함수\n",
    "# 생성자 : 객체생성시에 멤버필드를 초기화 해주는 함수\n",
    "cal4 = FourCal1(10,20) \n",
    "print(cal4.first)"
   ]
  },
  {
   "cell_type": "code",
   "execution_count": 53,
   "id": "6d48d390",
   "metadata": {},
   "outputs": [
    {
     "ename": "TypeError",
     "evalue": "FourCal1.__init__() missing 2 required positional arguments: 'num1' and 'num2'",
     "output_type": "error",
     "traceback": [
      "\u001b[1;31m---------------------------------------------------------------------------\u001b[0m",
      "\u001b[1;31mTypeError\u001b[0m                                 Traceback (most recent call last)",
      "Cell \u001b[1;32mIn[53], line 1\u001b[0m\n\u001b[1;32m----> 1\u001b[0m cal5\u001b[38;5;241m=\u001b[39m \u001b[43mFourCal1\u001b[49m\u001b[43m(\u001b[49m\u001b[43m)\u001b[49m\n\u001b[0;32m      2\u001b[0m \u001b[38;5;66;03m# 생성자가 있는 경우 초기값이 없이 실행시킬 수 없다.\u001b[39;00m\n",
      "\u001b[1;31mTypeError\u001b[0m: FourCal1.__init__() missing 2 required positional arguments: 'num1' and 'num2'"
     ]
    }
   ],
   "source": [
    "# cal5= FourCal1()\n",
    "# 생성자가 있는 경우 초기값이 없이 실행시킬 수 없다."
   ]
  },
  {
   "cell_type": "code",
   "execution_count": 54,
   "id": "0f8ae641",
   "metadata": {},
   "outputs": [],
   "source": [
    "# 상속\n",
    "class FourCal1:\n",
    "    def __init__(self, num1, num2):\n",
    "        self.first = num1 # 초기화\n",
    "        self.second = num2\n",
    "    def add(self):\n",
    "        self.result = self.first + self.second\n",
    "    def div(self):\n",
    "        self.result = self.first / self.second"
   ]
  },
  {
   "cell_type": "code",
   "execution_count": 56,
   "id": "3d59eb90",
   "metadata": {},
   "outputs": [
    {
     "name": "stdout",
     "output_type": "stream",
     "text": [
      "\n"
     ]
    }
   ],
   "source": [
    "class MoreFourCal(FourCal1): # 상속\n",
    "    def mul(self):\n",
    "        self.result = self.first * self.second\n",
    "    def sub(self):\n",
    "        self.result = self.first - self.second\n",
    "'''\n",
    "    def __init__(self, num1, num2):\n",
    "        self.first = num1 # 초기화\n",
    "        self.second = num2\n",
    "    def add(self):\n",
    "        self.result = self.first + self.second\n",
    "    def div(self):\n",
    "        self.result = self.first / self.second\n",
    "'''\n",
    "print()"
   ]
  },
  {
   "cell_type": "code",
   "execution_count": 58,
   "id": "4be8398d",
   "metadata": {},
   "outputs": [
    {
     "name": "stdout",
     "output_type": "stream",
     "text": [
      "40\n",
      "-20\n",
      "300\n",
      "0.3333333333333333\n"
     ]
    }
   ],
   "source": [
    "a5 = MoreFourCal(10, 30)\n",
    "a5.add()\n",
    "print(a5.result)\n",
    "a5.sub()\n",
    "print(a5.result)\n",
    "a5.mul()\n",
    "print(a5.result)\n",
    "a5.div()\n",
    "print(a5.result)\n"
   ]
  },
  {
   "cell_type": "code",
   "execution_count": 59,
   "id": "4c62f8a1",
   "metadata": {},
   "outputs": [
    {
     "name": "stdout",
     "output_type": "stream",
     "text": [
      "0.0\n"
     ]
    }
   ],
   "source": [
    "a6 = MoreFourCal(0, 30) \n",
    "a6.div() # result = 0 / 30 # 부정\n",
    "print(a6.result)"
   ]
  },
  {
   "cell_type": "code",
   "execution_count": 60,
   "id": "aa89c120",
   "metadata": {},
   "outputs": [
    {
     "ename": "ZeroDivisionError",
     "evalue": "division by zero",
     "output_type": "error",
     "traceback": [
      "\u001b[1;31m---------------------------------------------------------------------------\u001b[0m",
      "\u001b[1;31mZeroDivisionError\u001b[0m                         Traceback (most recent call last)",
      "Cell \u001b[1;32mIn[60], line 2\u001b[0m\n\u001b[0;32m      1\u001b[0m a7 \u001b[38;5;241m=\u001b[39m MoreFourCal( \u001b[38;5;241m30\u001b[39m, \u001b[38;5;241m0\u001b[39m)\n\u001b[1;32m----> 2\u001b[0m \u001b[43ma7\u001b[49m\u001b[38;5;241;43m.\u001b[39;49m\u001b[43mdiv\u001b[49m\u001b[43m(\u001b[49m\u001b[43m)\u001b[49m\n\u001b[0;32m      3\u001b[0m \u001b[38;5;28mprint\u001b[39m(a7\u001b[38;5;241m.\u001b[39mresult)\n",
      "Cell \u001b[1;32mIn[54], line 9\u001b[0m, in \u001b[0;36mFourCal1.div\u001b[1;34m(self)\u001b[0m\n\u001b[0;32m      8\u001b[0m \u001b[38;5;28;01mdef\u001b[39;00m \u001b[38;5;21mdiv\u001b[39m(\u001b[38;5;28mself\u001b[39m):\n\u001b[1;32m----> 9\u001b[0m     \u001b[38;5;28mself\u001b[39m\u001b[38;5;241m.\u001b[39mresult \u001b[38;5;241m=\u001b[39m \u001b[38;5;28;43mself\u001b[39;49m\u001b[38;5;241;43m.\u001b[39;49m\u001b[43mfirst\u001b[49m\u001b[43m \u001b[49m\u001b[38;5;241;43m/\u001b[39;49m\u001b[43m \u001b[49m\u001b[38;5;28;43mself\u001b[39;49m\u001b[38;5;241;43m.\u001b[39;49m\u001b[43msecond\u001b[49m\n",
      "\u001b[1;31mZeroDivisionError\u001b[0m: division by zero"
     ]
    }
   ],
   "source": [
    "a7 = MoreFourCal( 30, 0)\n",
    "#a7.div() result = 30 / 0 # 불능\n",
    "#print(a7.result)"
   ]
  },
  {
   "cell_type": "code",
   "execution_count": 64,
   "id": "33c77373",
   "metadata": {},
   "outputs": [],
   "source": [
    "# 오버라이딩\n",
    "class MoreFourCal1(FourCal1):\n",
    "    def mul(self):\n",
    "        self.result = self.first * self.second\n",
    "    def sub(self):\n",
    "        self.result = self.first - self.second\n",
    "    def div(self): # 재정의 \n",
    "        if self.second == 0:\n",
    "            self.result = 0\n",
    "        else:\n",
    "            self.result = self.first / self.second"
   ]
  },
  {
   "cell_type": "code",
   "execution_count": 65,
   "id": "d0da7649",
   "metadata": {},
   "outputs": [
    {
     "name": "stdout",
     "output_type": "stream",
     "text": [
      "0\n"
     ]
    }
   ],
   "source": [
    "a7 = MoreFourCal1(10, 0)\n",
    "a7.div() # 재정의된 함수가 실행\n",
    "print(a7.result)"
   ]
  },
  {
   "cell_type": "code",
   "execution_count": 67,
   "id": "c0a5e3b5",
   "metadata": {},
   "outputs": [
    {
     "name": "stdout",
     "output_type": "stream",
     "text": [
      "7\n"
     ]
    }
   ],
   "source": [
    "# 모듈\n",
    "# 클래스 , 상수, 변수 , 함수등을 모아 둔 파일\n",
    "import random\n",
    "num = random.randint(0, 14)\n",
    "print(num)"
   ]
  },
  {
   "cell_type": "code",
   "execution_count": 74,
   "id": "be31801a",
   "metadata": {},
   "outputs": [
    {
     "name": "stdout",
     "output_type": "stream",
     "text": [
      "30\n",
      "10\n",
      "120\n",
      "3.141592\n",
      "40\n"
     ]
    }
   ],
   "source": [
    "import mod1\n",
    "z = mod1.sum1(10,20)\n",
    "print(z)\n",
    "print(mod1.a)\n",
    "mod1.dddd.add()\n",
    "print(mod1.dddd.result)\n",
    "print(mod1.PI)\n",
    "aa = mod1.MoreFourCal1(10,30)\n",
    "aa.add()\n",
    "print(aa.result)"
   ]
  },
  {
   "cell_type": "code",
   "execution_count": 76,
   "id": "1c72691a",
   "metadata": {},
   "outputs": [
    {
     "name": "stdout",
     "output_type": "stream",
     "text": [
      "30\n",
      "4\n"
     ]
    }
   ],
   "source": [
    "from mod1 import *\n",
    "a = sum1(10,20)\n",
    "print(a)\n",
    "from random import *\n",
    "num = randint(1, 5)\n",
    "print(num)"
   ]
  },
  {
   "cell_type": "code",
   "execution_count": 86,
   "id": "e228ca04",
   "metadata": {},
   "outputs": [],
   "source": [
    "# 스크래핑\n",
    "import urllib.request\n",
    "url = \"http://uta.pw/shodou/img/28/214.png\"\n",
    "savename = \"test.png\"\n",
    "urllib.request.urlretrieve(url, savename)\n"
   ]
  },
  {
   "cell_type": "code",
   "execution_count": 4,
   "id": "ce1b90db",
   "metadata": {},
   "outputs": [],
   "source": [
    "import urllib.request\n",
    "url = \"http://uta.pw/shodou/img/28/214.png\"\n",
    "mem = urllib.request.urlopen(url).read() # 스크래핑\n",
    "#print(mem)\n",
    "with open(\"test1.png\", mode=\"wb\") as f:\n",
    "    f.write(mem)"
   ]
  },
  {
   "cell_type": "code",
   "execution_count": 10,
   "id": "c70a0019",
   "metadata": {},
   "outputs": [
    {
     "name": "stdout",
     "output_type": "stream",
     "text": [
      "b'[ip]\\nAPI_URI=http://api.aoikujira.com/ip/get.php\\nREMOTE_ADDR=121.160.41.224\\nREMOTE_HOST=121.160.41.224\\nREMOTE_PORT=50332\\nHTTP_HOST=api.aoikujira.com\\nHTTP_USER_AGENT=Python-urllib/3.11\\nHTTP_ACCEPT_LANGUAGE=\\nHTTP_ACCEPT_CHARSET=\\nSERVER_PORT=80\\nFORMAT=ini\\n\\n'\n",
      "[ip]\n",
      "API_URI=http://api.aoikujira.com/ip/get.php\n",
      "REMOTE_ADDR=121.160.41.224\n",
      "REMOTE_HOST=121.160.41.224\n",
      "REMOTE_PORT=50332\n",
      "HTTP_HOST=api.aoikujira.com\n",
      "HTTP_USER_AGENT=Python-urllib/3.11\n",
      "HTTP_ACCEPT_LANGUAGE=\n",
      "HTTP_ACCEPT_CHARSET=\n",
      "SERVER_PORT=80\n",
      "FORMAT=ini\n",
      "\n",
      "\n"
     ]
    }
   ],
   "source": [
    "url = \"http://api.aoikujira.com/ip/ini\"\n",
    "mem = urllib.request.urlopen(url).read()\n",
    "print(mem)\n",
    "text = mem.decode(\"utf-8\")\n",
    "print(text)"
   ]
  },
  {
   "cell_type": "code",
   "execution_count": 14,
   "id": "512f48ee",
   "metadata": {},
   "outputs": [
    {
     "name": "stdout",
     "output_type": "stream",
     "text": [
      "url : http://www.kma.go.kr/weather/forecast/mid-term-rss3.jsp?stnId=108\n"
     ]
    }
   ],
   "source": [
    "import urllib.request # 스크래핑\n",
    "import urllib.parse\n",
    "#https://search.naver.com/search.naver?where=nexearch&query=python\n",
    "#<------------------------- url ---------------------------------->\n",
    "#<----------  uri -------------------><------ 쿼리스트링 ---------->\n",
    "# http://www.kma.go.kr/weather/forecast/mid-term-rss3.jsp?stnId=108\n",
    "API = \"http://www.kma.go.kr/weather/forecast/mid-term-rss3.jsp\"#uri\n",
    "value= {\"stnId\":108} # 쿼리스트링\n",
    "params = urllib.parse.urlencode(value) # stnId=108\n",
    "url = API + \"?\" + params\n",
    "print(\"url : \" + url)\n",
    "data = urllib.request.urlopen(url).read()\n",
    "text = data.decode(\"utf-8\")\n",
    "#print(text)"
   ]
  },
  {
   "cell_type": "code",
   "execution_count": 15,
   "id": "562c4d14",
   "metadata": {},
   "outputs": [
    {
     "name": "stdout",
     "output_type": "stream",
     "text": [
      "지역번호를 입력해주세요.108\n",
      "url : http://www.kma.go.kr/weather/forecast/mid-term-rss3.jsp?stnId=108\n"
     ]
    }
   ],
   "source": [
    "regionNumber = input(\"지역번호를 입력해주세요.\")\n",
    "API = \"http://www.kma.go.kr/weather/forecast/mid-term-rss3.jsp\"#uri\n",
    "value= {\"stnId\":regionNumber} # 쿼리스트링\n",
    "params = urllib.parse.urlencode(value) # stnId=108\n",
    "url = API + \"?\" + params\n",
    "print(\"url : \" + url)\n",
    "data = urllib.request.urlopen(url).read()\n",
    "text = data.decode(\"utf-8\")"
   ]
  },
  {
   "cell_type": "code",
   "execution_count": 26,
   "id": "e1ab5ed8",
   "metadata": {},
   "outputs": [
    {
     "name": "stdout",
     "output_type": "stream",
     "text": [
      "<h1>스크레이핑이란?</h1>\n",
      "스크레이핑이란?\n",
      "<p>웹 페이지를 분석하는 것</p>\n",
      "웹 페이지를 분석하는 것\n",
      "<p>원하는 부분을 추출하는 것</p>\n",
      "원하는 부분을 추출하는 것\n"
     ]
    }
   ],
   "source": [
    "from bs4 import BeautifulSoup # 크롤링\n",
    "html = \"\"\"  \n",
    "<html><body>\n",
    "  <h1>스크레이핑이란?</h1>\n",
    "  <p>웹 페이지를 분석하는 것</p>\n",
    "  <p>원하는 부분을 추출하는 것</p>\n",
    "</body></html>\n",
    "\"\"\"\n",
    "# HTML 분석하기\n",
    "soup = BeautifulSoup(html,'html.parser' )\n",
    "# 태그를 이용하여 원하는 부분 추출하기\n",
    "h1 = soup.html.h1\n",
    "print(h1)\n",
    "print(h1.string)\n",
    "p1 = soup.html.p\n",
    "print(p1)\n",
    "print(p1.string)\n",
    "p2 = p1.next_sibling.next_sibling\n",
    "print(p2)\n",
    "print(p2.string)"
   ]
  },
  {
   "cell_type": "code",
   "execution_count": 31,
   "id": "c2ea9138",
   "metadata": {},
   "outputs": [
    {
     "name": "stdout",
     "output_type": "stream",
     "text": [
      "<h1 id=\"title\">스크레이핑이란?</h1>\n",
      "스크레이핑이란?\n",
      "<p id=\"body\">웹 페이지를 분석하는 것</p>\n",
      "웹 페이지를 분석하는 것\n",
      "<h1 id=\"title\">스크레이핑이란?</h1>\n",
      "스크레이핑이란?\n"
     ]
    }
   ],
   "source": [
    "html = \"\"\"  \n",
    "<html><body>\n",
    "  <h1 id=\"title\">스크레이핑이란?</h1>\n",
    "  <p id=\"body\">웹 페이지를 분석하는 것</p>\n",
    "  <p>원하는 부분을 추출하는 것</p>\n",
    "</body></html>\n",
    "\"\"\" # \n",
    "# HTML 분석하기\n",
    "soup = BeautifulSoup(html,'html.parser' )\n",
    "title = soup.find(id = 'title')\n",
    "print(title)\n",
    "print(title.string)\n",
    "body = soup.find(id = 'body')\n",
    "print(body)\n",
    "print(body.string)\n",
    "h1 = soup.find('h1')\n",
    "print(h1)\n",
    "print(h1.string)"
   ]
  },
  {
   "cell_type": "code",
   "execution_count": 36,
   "id": "2230edaf",
   "metadata": {},
   "outputs": [
    {
     "name": "stdout",
     "output_type": "stream",
     "text": [
      "<a href=\"a.html\" id=\"link\">원하는 부분을 추출하는 것</a>\n",
      "원하는 부분을 추출하는 것\n",
      "{'href': 'a.html', 'id': 'link'}\n",
      "<class 'dict'>\n",
      "a.html\n"
     ]
    }
   ],
   "source": [
    "html = \"\"\"  \n",
    "<html><body>\n",
    "  <h1 id=\"title\">스크레이핑이란?</h1>\n",
    "  <p id=\"body\">웹 페이지를 분석하는 것</p>\n",
    "  <p><a href='a.html' id = 'link'>원하는 부분을 추출하는 것</a></p>\n",
    "</body></html>\n",
    "\"\"\" # \n",
    "# HTML 분석하기\n",
    "soup = BeautifulSoup(html,'html.parser' )\n",
    "\n",
    "a = soup.html.a\n",
    "print(a)\n",
    "print(a.string)\n",
    "attrs = a.attrs\n",
    "print(attrs)\n",
    "print(type(attrs))\n",
    "print(attrs['href'])"
   ]
  },
  {
   "cell_type": "code",
   "execution_count": 44,
   "id": "c5811afb",
   "metadata": {},
   "outputs": [
    {
     "name": "stdout",
     "output_type": "stream",
     "text": [
      "기상청 육상 중기예보\n",
      "○ (하늘상태) 이번 예보기간에는 전국이 대체로 맑겠으나, 16일(목)~18일(토)은 가끔 구름많겠습니다.<br />○ (기온) 이번 예보기간 아침 기온은 -4~9도, 낮 기온은 10~20도로 평년(최저기온 -2~6도, 최고기온 10~16도)과 비슷하거나 조금 높겠으나, <br />          14일(화) 아침 중부내륙은 영하의 기온을 보이면서 춥겠습니다. <br /><br />* 당분간 대기가 건조하겠으니, 산불 등 각종 화재 예방에 각별히 유의하기 바랍니다.\n"
     ]
    }
   ],
   "source": [
    "import urllib.request as req # 스크래핑\n",
    "from bs4 import BeautifulSoup # 크롤링\n",
    "API = \"http://www.kma.go.kr/weather/forecast/mid-term-rss3.jsp\"#uri\n",
    "data = req.urlopen(url).read()\n",
    "#print(data)\n",
    "soup = BeautifulSoup(data, \"html.parser\")\n",
    "title = soup.find(\"title\").string\n",
    "print(title)\n",
    "wf = soup.find(\"wf\").string\n",
    "print(wf)"
   ]
  },
  {
   "cell_type": "code",
   "execution_count": 53,
   "id": "5a7ea158",
   "metadata": {},
   "outputs": [
    {
     "name": "stdout",
     "output_type": "stream",
     "text": [
      "위키북스 도서\n",
      "위키북스 도서\n",
      "위키북스 도서\n",
      "위키북스 도서\n",
      "[<li>유니티 게임 이펙트 입문</li>, <li>스위프트로 시작하는 아이폰 앱 개발 교과서</li>, <li>모던 웹사이트 디자인의 정석</li>]\n",
      "유니티 게임 이펙트 입문\n",
      "스위프트로 시작하는 아이폰 앱 개발 교과서\n",
      "모던 웹사이트 디자인의 정석\n"
     ]
    }
   ],
   "source": [
    "### CSS 선택자 사용하기\n",
    "html = \"\"\"\n",
    "<html><body>\n",
    "<div id=\"meigen\">\n",
    "  <h1>위키북스 도서</h1>\n",
    "  <ul class=\"items\">\n",
    "    <li>유니티 게임 이펙트 입문</li>\n",
    "    <li>스위프트로 시작하는 아이폰 앱 개발 교과서</li>\n",
    "    <li>모던 웹사이트 디자인의 정석</li>\n",
    "  </ul>\n",
    "</div>\n",
    "</body></html>\n",
    "\"\"\"\n",
    "soup = BeautifulSoup(html, \"html.parser\")\n",
    "\n",
    "h1 = soup.html.h1\n",
    "print(h1.string)\n",
    "h2 = soup.find(\"h1\")\n",
    "print(h2.string)\n",
    "# 필요한 부분을 CSS 쿼리로 추출하기\n",
    "h3 = soup.select_one(\"div > h1 \")\n",
    "print(h3.string)\n",
    "h4 = soup.select_one(\"div#meigen > h1 \")\n",
    "print(h4.string)\n",
    "li1 = soup.select(\"div#meigen >ul.items > li \") # 리스트\n",
    "print(li1)\n",
    "for aaa in li1:\n",
    "    print(aaa.string)"
   ]
  },
  {
   "cell_type": "code",
   "execution_count": 62,
   "id": "13c2a7ff",
   "metadata": {},
   "outputs": [
    {
     "name": "stdout",
     "output_type": "stream",
     "text": [
      "usd/krw = 1,323.00\n",
      "1,323.00\n",
      "981.64\n",
      "1,407.87\n",
      "190.82\n",
      "134.7900\n",
      "1.0665\n",
      "1.2081\n",
      "104.5500\n",
      "76.68\n",
      "1593.84\n",
      "1867.2\n",
      "78217.78\n"
     ]
    }
   ],
   "source": [
    "url = \"http://finance.naver.com/marketindex/\"\n",
    "res = req.urlopen(url)\n",
    "#print(res)\n",
    "soup = BeautifulSoup(res, \"html.parser\")\n",
    "# 원하는 데이터 추출하기\n",
    "pri = soup.select_one(\"#exchangeList > li.on > a.head.usd > div > span.value\")\n",
    "print(\"usd/krw =\" , pri.string)\n",
    "prices = soup.select(\"div > span.value\")\n",
    "#print(prices)\n",
    "for price in prices:\n",
    "    print(price.string)\n"
   ]
  },
  {
   "cell_type": "code",
   "execution_count": 90,
   "id": "ec8872a1",
   "metadata": {},
   "outputs": [
    {
     "name": "stdout",
     "output_type": "stream",
     "text": [
      "******************************\n",
      "오늘 각 지역의 날씨\n",
      "******************************\n"
     ]
    },
    {
     "data": {
      "image/png": "[encoded data removed]",
      "text/plain": [
       "<Figure size 1200x400 with 1 Axes>"
      ]
     },
     "metadata": {},
     "output_type": "display_data"
    }
   ],
   "source": [
    "import requests\n",
    "from bs4 import BeautifulSoup\n",
    "import pandas\n",
    "import matplotlib as mpl\n",
    "import matplotlib.pyplot as plt\n",
    "url = \"https://www.weather.go.kr/w/obs-climate/land/city-obs.do\"\n",
    "source = requests.get(url) # 스크래핑\n",
    "\n",
    "soup = BeautifulSoup(source.content, \"html.parser\")\n",
    "# print(soup.prettify())\n",
    "\n",
    "####### 크롤링 시작 #######\n",
    "table = soup.find('table',{'class':'table-col'})\n",
    "#print(table)\n",
    "data = []\n",
    "print(\"*\" * 30)\n",
    "print(\"오늘 각 지역의 날씨\")\n",
    "print(\"*\" *30 )\n",
    "\n",
    "for tr in table.find_all('tr'):\n",
    "    tds = list(tr.find_all('td'))\n",
    "    for td in tds:\n",
    "        if td.find('a'):\n",
    "            point = td.find('a').text # 이름\n",
    "            temp = tds[5].string\n",
    "            humidity = tds[10].text\n",
    "            data.append([point,temp,humidity])\n",
    "#print(data)\n",
    "######### 크롤링 끝 ######\n",
    "\n",
    "with open('weather.csv', 'w', encoding='utf-8') as f:\n",
    "    f.write('지역, 온도, 습도\\n')\n",
    "    for i in data:\n",
    "        f.write(\"{0},{1},{2}\\n\".format(i[0],i[1],i[2]))\n",
    "\n",
    "df = pandas.read_csv('weather.csv',index_col='지역',encoding='utf-8')\n",
    "#print(df)\n",
    "city_df = df.loc[['서울','인천','대전','대구','광주','부산','울산']]\n",
    "#print(city_df)\n",
    "\n",
    "##### 시각화\n",
    "font_name = mpl.font_manager.FontProperties(fname=\"c:\\\\windows\\\\Fonts\\\\malgun.ttf\").get_name()\n",
    "mpl.rc('font',family=font_name)\n",
    "\n",
    "ax = city_df.plot(kind='bar',title='날씨',figsize=(12,4),legend=True,fontsize=15 )\n",
    "ax.set_xlabel('도시',fontsize=15)\n",
    "ax.set_ylabel('기온/습도',fontsize=15)\n",
    "ax.legend(['기온','습도'],fontsize=15)\n",
    "plt.show()"
   ]
  },
  {
   "cell_type": "code",
   "execution_count": 104,
   "id": "19a79184",
   "metadata": {},
   "outputs": [
    {
     "name": "stdout",
     "output_type": "stream",
     "text": [
      "7\n"
     ]
    }
   ],
   "source": [
    "# python 기본 자료형 : 정수 , 실수 , 문자열, 리스트, 튜플, 딕셔너리, 집합, 부울\n",
    "# numpy : 배열 자료형 : 숫자만 다루는 배열 \n",
    "import numpy\n",
    "num = numpy.random.randint(10)\n",
    "print(num)"
   ]
  },
  {
   "cell_type": "code",
   "execution_count": 103,
   "id": "44ede7b1",
   "metadata": {},
   "outputs": [
    {
     "name": "stdout",
     "output_type": "stream",
     "text": [
      "9\n"
     ]
    }
   ],
   "source": [
    "import random \n",
    "num1 = random.randint(0, 10)\n",
    "print(num1)"
   ]
  },
  {
   "cell_type": "code",
   "execution_count": 105,
   "id": "b72be1be",
   "metadata": {},
   "outputs": [
    {
     "name": "stdout",
     "output_type": "stream",
     "text": [
      "4\n"
     ]
    }
   ],
   "source": [
    "import numpy as np\n",
    "num = np.random.randint(10)\n",
    "print(num)"
   ]
  },
  {
   "cell_type": "code",
   "execution_count": 107,
   "id": "5067951c",
   "metadata": {},
   "outputs": [
    {
     "name": "stdout",
     "output_type": "stream",
     "text": [
      "[0 8 1 2 3 7]\n"
     ]
    }
   ],
   "source": [
    "# 0 ~ 9사이의 수로 크기가 6인 1차원 배열을 만드시오\n",
    "num = np.random.randint(10, size=6) \n",
    "print(num)"
   ]
  },
  {
   "cell_type": "code",
   "execution_count": 112,
   "id": "131d6591",
   "metadata": {},
   "outputs": [
    {
     "name": "stdout",
     "output_type": "stream",
     "text": [
      "[0 8 1 2 3 7]\n",
      "[0, 8, 1, 2, 3, 7]\n",
      "0\n",
      "0\n"
     ]
    }
   ],
   "source": [
    "print(num)\n",
    "l = [0, 8, 1, 2, 3, 7];\n",
    "print(l)\n",
    "print(l[0])\n",
    "print(num[0])"
   ]
  },
  {
   "cell_type": "code",
   "execution_count": 117,
   "id": "1e5891e1",
   "metadata": {},
   "outputs": [
    {
     "name": "stdout",
     "output_type": "stream",
     "text": [
      "[[6 8 8 6 7 9]\n",
      " [9 1 7 1 6 7]]\n"
     ]
    }
   ],
   "source": [
    "# 2차원배열\n",
    "num2 = np.random.randint(10, size=(2,6) ) # 2행 6열\n",
    "print(num2)"
   ]
  },
  {
   "cell_type": "code",
   "execution_count": 120,
   "id": "0950bc11",
   "metadata": {},
   "outputs": [
    {
     "name": "stdout",
     "output_type": "stream",
     "text": [
      "[[6 8 8 6 7 9]\n",
      " [9 1 7 1 6 7]]\n",
      "[[6, 8, 8, 6, 7, 9], [9, 1, 7, 1, 6, 7]]\n"
     ]
    }
   ],
   "source": [
    "print(num2)\n",
    "l2 = [[6, 8, 8, 6, 7, 9],\n",
    "      [9, 1, 7, 1, 6, 7]]\n",
    "print(l2)"
   ]
  },
  {
   "cell_type": "code",
   "execution_count": 125,
   "id": "771d1c2d",
   "metadata": {},
   "outputs": [
    {
     "name": "stdout",
     "output_type": "stream",
     "text": [
      "[1, 4, 7, 1, 6, 5]\n",
      "[1 4 7 1 6 5]\n",
      "4\n",
      "4\n",
      "4\n",
      "4\n"
     ]
    }
   ],
   "source": [
    "l =  [1, 4, 7, 1, 6, 5]\n",
    "#     0  1  2  3  4  5\n",
    "#     6  5  4  3  2  1 -\n",
    "print(l)\n",
    "print(num) # [1 4 7 1 6 5]\n",
    "#             0 1 2 3 4 5\n",
    "#             6 5 4 3 2 1\n",
    "print(l[1])\n",
    "print(num[1])\n",
    "print(l[-5])\n",
    "print(num[-5]) \n",
    "# 1차원배열의 indexing은 리스트와 같다."
   ]
  },
  {
   "cell_type": "code",
   "execution_count": 132,
   "id": "730a0cea",
   "metadata": {},
   "outputs": [
    {
     "name": "stdout",
     "output_type": "stream",
     "text": [
      "[1, 4, 7, 1]\n",
      "[1 4 7 1]\n",
      "[1, 7, 6]\n",
      "[1 7 6]\n",
      "[1, 4, 7, 1]\n",
      "[1 4 7 1]\n",
      "[1, 6, 5]\n",
      "[1 6 5]\n",
      "[1, 4, 7, 1, 6, 5]\n",
      "[1 4 7 1 6 5]\n",
      "[5, 6, 1, 7, 4, 1]\n",
      "[5 6 1 7 4 1]\n"
     ]
    }
   ],
   "source": [
    "# slcing\n",
    "# l =   [1, 4, 7, 1, 6, 5]   리스트\n",
    "# num = [1  4  7  1  6  5]   배열\n",
    "#        0  1  2  3  4  5\n",
    "#        6  5  4  3  2  1  -\n",
    "print(l[0:4])\n",
    "print(num[0:4])\n",
    "print(l[0:6:2])\n",
    "print(num[0:6:2])\n",
    "print(l[:4])\n",
    "print(num[:4])\n",
    "print(l[3:])\n",
    "print(num[3:])\n",
    "print(l[:]) # print(l)\n",
    "print(num[:]) # print(num)\n",
    "print(l[::-1]) # [5, 6, 1, 7, 4, 1]\n",
    "print(num[::-1]) # [5 6 1 7 4 1]"
   ]
  },
  {
   "cell_type": "code",
   "execution_count": 133,
   "id": "adc03011",
   "metadata": {},
   "outputs": [
    {
     "name": "stdout",
     "output_type": "stream",
     "text": [
      "[1, 4, 7, 10, 6, 5]\n",
      "[ 1  4  7 10  6  5]\n"
     ]
    }
   ],
   "source": [
    "l[3] = 10 # index를 이용해서 요소의 값 변경 \n",
    "num[3] = 10 # 열번호를 이용해서 요소의 값 변경\n",
    "print(l)\n",
    "print(num)"
   ]
  },
  {
   "cell_type": "code",
   "execution_count": 134,
   "id": "278f7af5",
   "metadata": {},
   "outputs": [
    {
     "name": "stdout",
     "output_type": "stream",
     "text": [
      "[[6, 8, 8, 6, 7, 9], [9, 1, 7, 1, 6, 7]]\n",
      "[[6 8 8 6 7 9]\n",
      " [9 1 7 1 6 7]]\n"
     ]
    }
   ],
   "source": [
    "print(l2)\n",
    "# [[6, 8, 8, 6, 7, 9], [9, 1, 7, 1, 6, 7]]\n",
    "#           0                 1\n",
    "#          -2                -1\n",
    "#   0  1  2  3  4  5    0  1  2  3  4  5\n",
    "#   6  5  4  3  2  1 -  6  5  4  3  2  1 -\n",
    "print(num2)\n",
    "# [[6 8 8 6 7 9]     0행   -2행\n",
    "#  [9 1 7 1 6 7]]    1행   -1행\n",
    "#   0 1 2 3 4 5열\n",
    "#   6 5 4 3 2 1-열\n",
    "# [[6 8 8 6 7 9] [9 1 7 1 6 7]]\n",
    "#       0행           1행\n",
    "#      -2행           -1행\n",
    "#   0 1 2 3 4 5열 0 1 2 3 4 5열\n",
    "#   6 5 4 3 2 1-열6 5 4 3 2 1-열"
   ]
  },
  {
   "cell_type": "code",
   "execution_count": 142,
   "id": "ee216f55",
   "metadata": {},
   "outputs": [
    {
     "name": "stdout",
     "output_type": "stream",
     "text": [
      "8\n",
      "8\n",
      "8\n",
      "7\n",
      "7\n",
      "7\n"
     ]
    },
    {
     "ename": "TypeError",
     "evalue": "list indices must be integers or slices, not tuple",
     "output_type": "error",
     "traceback": [
      "\u001b[1;31m---------------------------------------------------------------------------\u001b[0m",
      "\u001b[1;31mTypeError\u001b[0m                                 Traceback (most recent call last)",
      "Cell \u001b[1;32mIn[142], line 7\u001b[0m\n\u001b[0;32m      5\u001b[0m \u001b[38;5;28mprint\u001b[39m(num2[\u001b[38;5;241m-\u001b[39m\u001b[38;5;241m2\u001b[39m][\u001b[38;5;241m-\u001b[39m\u001b[38;5;241m2\u001b[39m])\n\u001b[0;32m      6\u001b[0m \u001b[38;5;28mprint\u001b[39m(num2[\u001b[38;5;241m-\u001b[39m\u001b[38;5;241m2\u001b[39m , \u001b[38;5;241m-\u001b[39m\u001b[38;5;241m2\u001b[39m])\n\u001b[1;32m----> 7\u001b[0m \u001b[38;5;28mprint\u001b[39m(\u001b[43ml2\u001b[49m\u001b[43m[\u001b[49m\u001b[38;5;241;43m-\u001b[39;49m\u001b[38;5;241;43m2\u001b[39;49m\u001b[43m \u001b[49m\u001b[43m,\u001b[49m\u001b[43m \u001b[49m\u001b[38;5;241;43m-\u001b[39;49m\u001b[38;5;241;43m2\u001b[39;49m\u001b[43m]\u001b[49m)\n",
      "\u001b[1;31mTypeError\u001b[0m: list indices must be integers or slices, not tuple"
     ]
    }
   ],
   "source": [
    "print(l2[0][1]) \n",
    "print(num2[0][1]) # 리스트\n",
    "print(num2[0, 1]) # 배열 형식 num2[행 , 열]\n",
    "print(l2[-2][-2])\n",
    "print(num2[-2][-2])\n",
    "print(num2[-2 , -2])\n",
    "#print(l2[-2 , -2])"
   ]
  },
  {
   "cell_type": "code",
   "execution_count": 143,
   "id": "0bb010d5",
   "metadata": {},
   "outputs": [
    {
     "name": "stdout",
     "output_type": "stream",
     "text": [
      "[[4 6 8 6]\n",
      " [1 0 3 6]\n",
      " [9 0 6 5]]\n"
     ]
    }
   ],
   "source": [
    "num3 = np.random.randint(10, size = (3, 4)) # 3행 4열\n",
    "print(num3)"
   ]
  },
  {
   "cell_type": "code",
   "execution_count": 147,
   "id": "33f0bc29",
   "metadata": {},
   "outputs": [
    {
     "name": "stdout",
     "output_type": "stream",
     "text": [
      "[[4, 6, 8, 6], [1, 0, 3, 6], [9, 0, 6, 5]]\n",
      "[[4 6 8 6]\n",
      " [1 0 3 6]\n",
      " [9 0 6 5]]\n"
     ]
    }
   ],
   "source": [
    "l3 = [[4, 6, 8, 6],\n",
    "      [1, 0, 3, 6],\n",
    "      [9, 0, 6, 5]]\n",
    "print(l3)\n",
    "#[[4, 6, 8, 6], [1, 0, 3, 6], [9, 0, 6, 5]]\n",
    "#      0              1             2\n",
    "#  0  1  2  3    0  1  2  3    0  1  2  3 \n",
    "'''\n",
    "[[4 6 8 6]      0행\n",
    " [1 0 3 6]      1행     3행\n",
    " [9 0 6 5]]     2행\n",
    "  0 1 2 3 열\n",
    "    4열\n",
    "[4 6 8 6]     1차원\n",
    "[[4 6 8 6]]   1행 4열짜리 2차원배열\n",
    "[[[4 6 8 6]]] 1면 1행 4열짜리 3차원 배열 \n",
    "'''\n",
    "print(num3)"
   ]
  },
  {
   "cell_type": "code",
   "execution_count": 151,
   "id": "e00c96a0",
   "metadata": {},
   "outputs": [
    {
     "name": "stdout",
     "output_type": "stream",
     "text": [
      "[4, 6, 8, 6]\n",
      "[4 6 8 6]\n",
      "[6, 8]\n",
      "[6 8]\n",
      "[6 8]\n",
      "[[4, 6, 8, 6], [1, 0, 3, 6]]\n",
      "[[4 6 8 6]\n",
      " [1 0 3 6]]\n"
     ]
    }
   ],
   "source": [
    "print(l3[0]) #[4, 6, 8, 6]\n",
    "print(num3[0]) # [4 6 8 6]\n",
    "print(l3[0][1:3])\n",
    "print(num3[0][1:3])\n",
    "print(num3[0 , 1:3])\n",
    "print(l3[0:2])\n",
    "print(num3[0:2])"
   ]
  },
  {
   "cell_type": "code",
   "execution_count": 166,
   "id": "ef3530cb",
   "metadata": {},
   "outputs": [
    {
     "name": "stdout",
     "output_type": "stream",
     "text": [
      "[[4, 6, 8, 6], [1, 0, 3, 6], [9, 0, 6, 5]]\n",
      "[[4 6 8 6]\n",
      " [1 0 3 6]\n",
      " [9 0 6 5]]\n",
      "[[6 8]\n",
      " [0 3]]\n",
      "[4 6 8 6]\n",
      "[4, 6, 8, 6]\n",
      "[6, 8]\n",
      "[6 8]\n",
      "[6 8]\n",
      "[4, 8]\n",
      "[4 8]\n",
      "[4 8]\n",
      "[[4, 6, 8, 6]]\n",
      "[[4 6 8 6]]\n",
      "[[4 8]\n",
      " [9 6]]\n",
      "[[4 8]\n",
      " [1 3]\n",
      " [9 6]]\n",
      "[[4 6 8 6]\n",
      " [9 0 6 5]]\n"
     ]
    }
   ],
   "source": [
    "print(l3)\n",
    "print(num3)\n",
    "'''\n",
    "[[4, 6, 8, 6], \n",
    " [1, 0, 3, 6], \n",
    " [9, 0, 6, 5]]\n",
    "'''\n",
    "print(num3[0:2, 1:3]) # [[6 8][0 3]]\n",
    "# print(num3[0:2][1:3])  #[1 0 3 6]\n",
    "# print(l3[0:2][1:3])    # [1, 0, 3, 6]\n",
    "print(num3[0]) # 0행        [4 6 8 6]\n",
    "print(l3[0])   # 0번 index  [4, 6, 8, 6]\n",
    "print(l3[0][1:3])\n",
    "print(num3[0][1:3])\n",
    "print(num3[0, 1:3])\n",
    "print(l3[0][::2])\n",
    "print(num3[0][::2])\n",
    "print(num3[0, ::2])\n",
    "\n",
    "print(l3[::2][::2]) # [[4, 6, 8, 6]]\n",
    "print(num3[::2][::2])  # [[4 6 8 6]]\n",
    "print(num3[::2, ::2]) # [[4 8][9 6]]\n",
    "\n",
    "### 모든 행에서 열을 한칸씩 건너 띄우기\n",
    "print(num3[:, ::2])\n",
    "### 행을 한칸씩 건너 띄우고 열은 모두 출력\n",
    "print(num3[::2, :])\n",
    "\n",
    "# 숫자인 경우에는 리스트보다는 numpy를 사용"
   ]
  },
  {
   "cell_type": "code",
   "execution_count": 182,
   "id": "6b6cc03c",
   "metadata": {},
   "outputs": [
    {
     "name": "stdout",
     "output_type": "stream",
     "text": [
      "[1, 4, 7, 10, 6, 5]\n",
      "[ 1  4  7 10  6  5]\n",
      "[5, 6, 10, 7, 4, 1]\n",
      "[ 5  6 10  7  4  1]\n",
      "[[4, 6, 8, 6], [1, 0, 3, 6], [9, 0, 6, 5]]\n",
      "[[4 6 8 6]\n",
      " [1 0 3 6]\n",
      " [9 0 6 5]]\n",
      "[[4, 6, 8, 6], [1, 0, 3, 6], [9, 0, 6, 5]]\n",
      "[[4 6 8 6]\n",
      " [1 0 3 6]\n",
      " [9 0 6 5]]\n",
      "[[9, 0, 6, 5], [1, 0, 3, 6], [4, 6, 8, 6]]\n",
      "[[9 0 6 5]\n",
      " [1 0 3 6]\n",
      " [4 6 8 6]]\n",
      "[[9, 0, 6, 5], [1, 0, 3, 6], [4, 6, 8, 6]]\n",
      "[[9 0 6 5]\n",
      " [1 0 3 6]\n",
      " [4 6 8 6]]\n",
      "[[6 8 6 4]\n",
      " [6 3 0 1]\n",
      " [5 6 0 9]]\n",
      "[[5 6 0 9]\n",
      " [6 3 0 1]\n",
      " [6 8 6 4]]\n",
      "[4, 6, 8, 6]\n",
      "[4 6 8 6]\n",
      "[4 1 9]\n",
      "[8 3 6]\n"
     ]
    }
   ],
   "source": [
    "print(l)\n",
    "print(num)\n",
    "print(l[::-1])\n",
    "print(num[::-1])\n",
    "print(l3)\n",
    "print(num3)\n",
    "print(l3[:])\n",
    "print(num3[:])\n",
    "print(l3[::-1])\n",
    "print(num3[::-1])\n",
    "\n",
    "print(l3[:][::-1])\n",
    "print(num3[:][::-1])\n",
    "print(num3[: , ::-1])\n",
    "# 행과 열을 모두 거꾸로 출력\n",
    "print(num3[::-1, ::-1])\n",
    "\n",
    "print(l3[:][0])\n",
    "print(num3[:][0])\n",
    "print(num3[: , 0])\n",
    "print(num3[: , 2])"
   ]
  },
  {
   "cell_type": "code",
   "execution_count": null,
   "id": "eb821c8a",
   "metadata": {},
   "outputs": [],
   "source": [
    "## 리스트와 배열에 있는 값 변경\n",
    "print(l3)\n",
    "print(num3)\n",
    "l3[0][2] = 100\n",
    "num3[0][2] = 100\n",
    "print(l3)\n",
    "print(num3)\n",
    "num3[1 , 2] = 100 \n",
    "print(num3)"
   ]
  },
  {
   "cell_type": "code",
   "execution_count": 197,
   "id": "b6785d19",
   "metadata": {},
   "outputs": [
    {
     "name": "stdout",
     "output_type": "stream",
     "text": [
      "[[0 5 3 3]\n",
      " [3 5 7 6]\n",
      " [3 8 5 4]]\n",
      "[[0 1 2]\n",
      " [3 4 5]\n",
      " [6 7 8]]\n",
      "[[ 0  1  2  3]\n",
      " [ 4  5  6  7]\n",
      " [ 8  9 10 11]]\n",
      "[[ 0  1  2]\n",
      " [ 3  4  5]\n",
      " [ 6  7  8]\n",
      " [ 9 10 11]]\n",
      "[[11 12 13]\n",
      " [14 15 16]\n",
      " [17 18 19]]\n",
      "[[1 2 3]]\n",
      "[[1]\n",
      " [2]\n",
      " [3]]\n",
      "[1 2 3]\n"
     ]
    }
   ],
   "source": [
    "### 배열을 만드는 방법\n",
    "i = np.random.randint(10, size=(3, 4)) # 3행 4열\n",
    "print(i)\n",
    "# arange()\n",
    "i2 = np.arange(9).reshape(3,3)\n",
    "print(i2)\n",
    "#i2 = np.arange(10).reshape(3,3) # 숫자의 갯수와 배열의 크기가 일치하여야 한다.\n",
    "i3 = np.arange(12).reshape(3,4)\n",
    "print(i3)\n",
    "i4 = np.arange(12).reshape(4,3)\n",
    "print(i4)\n",
    "i5 = np.arange(11,20).reshape(3,3)\n",
    "print(i5)\n",
    "# 1~3까지의 수를 가지는 1행짜리 2차원배열\n",
    "i6 = np.arange(1,4).reshape(1,3)\n",
    "print(i6)\n",
    "# 1~3까지의 수를 가지는 3행짜리 2차원배열\n",
    "i7 = np.arange(1,4).reshape(3,1)\n",
    "print(i7)\n",
    "# 1~3까지의 수를 가지는 1차원배열\n",
    "i8 = np.arange(1,4).reshape(3)\n",
    "print(i8)"
   ]
  },
  {
   "cell_type": "code",
   "execution_count": 202,
   "id": "967ad407",
   "metadata": {},
   "outputs": [
    {
     "name": "stdout",
     "output_type": "stream",
     "text": [
      "[2 5 7]\n",
      "[2 5 7]\n",
      "[[1 2 3]\n",
      " [4 5 6]\n",
      " [7 8 9]]\n",
      "[[1 2 3]\n",
      " [4 5 6]\n",
      " [7 8 9]]\n",
      "[[[1 2 3]\n",
      "  [4 5 6]\n",
      "  [7 8 9]]\n",
      "\n",
      " [[1 2 3]\n",
      "  [4 5 6]\n",
      "  [7 8 9]]\n",
      "\n",
      " [[1 2 3]\n",
      "  [4 5 6]\n",
      "  [7 8 9]]]\n"
     ]
    }
   ],
   "source": [
    "# array()\n",
    "# 2,5,7을 가지는 1차원 배열을 만드시오.\n",
    "ii1 = np.array([2,5,7])\n",
    "print(ii1)\n",
    "ii1 = np.array((2,5,7))\n",
    "print(ii1)\n",
    "# [[1,2,3],[4,5,6],[7,8,9]]을 가지는 2차원배열 만들자.\n",
    "ii2 = np.array([[1,2,3],[4,5,6],[7,8,9]])\n",
    "print(ii2)\n",
    "ii2 = np.array(([1,2,3],[4,5,6],[7,8,9]))\n",
    "print(ii2)\n",
    "ii3 = np.array([[[1,2,3],[4,5,6],[7,8,9]],\n",
    "               [[1,2,3],[4,5,6],[7,8,9]],\n",
    "               [[1,2,3],[4,5,6],[7,8,9]]])\n",
    "print(ii3)\n",
    "print(ii1[2]) #2열\n",
    "print(ii2[1,2]) # 1행 2열\n",
    "print(ii3[1 ,2, 2]) # 1면, 2행, 2열 "
   ]
  },
  {
   "cell_type": "code",
   "execution_count": 205,
   "id": "26f215a4",
   "metadata": {},
   "outputs": [
    {
     "name": "stdout",
     "output_type": "stream",
     "text": [
      "[1, 2, 3, 4, 5, 6]\n",
      "[1, 2, 3]\n",
      "[1, 2, 3, 4, 5, 6]\n"
     ]
    }
   ],
   "source": [
    "ll1 = [1,2,3]\n",
    "ll2 = [4,5,6]\n",
    "ll3 = ll1 + ll2\n",
    "print(ll3)\n",
    "print(ll1)\n",
    "ll1.extend(ll2)\n",
    "print(ll1)"
   ]
  },
  {
   "cell_type": "code",
   "execution_count": 215,
   "id": "12801808",
   "metadata": {},
   "outputs": [
    {
     "name": "stdout",
     "output_type": "stream",
     "text": [
      "[4 4 4]\n",
      "[1 2 3 3 2 1]\n",
      "[  1   2   3   3   2   1 999 999 999]\n",
      "[1 2 3 4 5 6 7 8 9]\n",
      "[1 2 3 4 5 6 7 8 9]\n",
      "[1 2 3 4 6 7 8 9]\n"
     ]
    }
   ],
   "source": [
    "# 배열 함수\n",
    "x = np.array([1, 2, 3]) # 1차원 배열\n",
    "y = np.array([3, 2, 1]) # 1차원 배열\n",
    "z = x + y # 열끼리의 덧셈 연산\n",
    "print(z)\n",
    "z = np.concatenate((x, y))\n",
    "print(z)\n",
    "v = [999,999,999] # 리스트\n",
    "z = np.concatenate((x, y, v))  # 배열과 리스트를 같이 사용\n",
    "print(z)\n",
    "l1 = [1,2,3]\n",
    "l2 = [4,5,6]\n",
    "l3 = [7,8,9]\n",
    "z = np.concatenate((l1, l2, l3))\n",
    "print(z)\n",
    "z = np.concatenate(([1,2,3], [4,5,6], [7,8,9]))\n",
    "print(z)\n",
    "z = np.concatenate(([1,2,3], [4,6], [7,8,9]))\n",
    "print(z)"
   ]
  },
  {
   "cell_type": "code",
   "execution_count": 224,
   "id": "2ad18d0d",
   "metadata": {},
   "outputs": [
    {
     "name": "stdout",
     "output_type": "stream",
     "text": [
      "[[9 8 7]\n",
      " [6 5 4]\n",
      " [9 8 7]\n",
      " [6 5 4]]\n",
      "[[9 8 7 9 8 7]\n",
      " [6 5 4 6 5 4]]\n",
      "[[9 8 7]\n",
      " [6 5 4]\n",
      " [9 8 7]\n",
      " [6 5 4]]\n",
      "[[1 2 3]\n",
      " [9 8 7]\n",
      " [6 5 4]]\n",
      "[[9 8 7]\n",
      " [6 5 4]\n",
      " [1 2 3]]\n",
      "[[ 9  8  7 10]\n",
      " [ 6  5  4 20]]\n"
     ]
    }
   ],
   "source": [
    "x2 = np.array([1, 2, 3])   # 1차원 배열\n",
    "grid = np.array([[9, 8, 7], \n",
    "                 [6, 5, 4]]) # 2차원 배열\n",
    "grid1 = np.array([[9, 8, 7], \n",
    "                 [6, 5, 4]])\n",
    "\n",
    "# 차원이 다르면 concatenate함수를 사용할 수 없다.\n",
    "# z = np.concatenate((x2,grid),axis=0)\n",
    "# 같은 차원만 가능\n",
    "z = np.concatenate((grid, grid1),axis=0) # 밑에 붙게\n",
    "print(z)\n",
    "z = np.concatenate((grid, grid1),axis=1) # 옆에 붙게\n",
    "print(z)\n",
    "z = np.concatenate((grid, grid1)) # 밑에 붙게\n",
    "print(z)\n",
    "\n",
    "# 차원이 서로 다른 경우\n",
    "z = np.vstack([x2, grid])\n",
    "print(z)\n",
    "z = np.vstack([grid, x2])\n",
    "print(z)\n",
    "\n",
    "x3 = [[10],\n",
    "      [20]]\n",
    "z = np.hstack([grid, x3])\n",
    "print(z)"
   ]
  },
  {
   "cell_type": "code",
   "execution_count": 228,
   "id": "6e1c5812",
   "metadata": {},
   "outputs": [
    {
     "name": "stdout",
     "output_type": "stream",
     "text": [
      "[0 1 2 3]\n",
      "[5 6 7 8]\n",
      "[5 6 7 8]\n",
      "[5 6 7 8]\n"
     ]
    }
   ],
   "source": [
    "# 유니버설 함수(UFuncs)\n",
    "x = np.arange(4)\n",
    "print(x)\n",
    "#   [0 1 2 3]\n",
    "# + [5 5 5 5]\n",
    "#    5 6 7 8\n",
    "z = np.array([5,5,5,5])\n",
    "print(x + z)\n",
    "print(x + 5) # [0 1 2 3] + [5,5,5,5]\n",
    "print(np.add(x , 5))\n",
    "print(x - 5)  # [0 1 2 3] - [5,5,5,5]\n",
    "print(np.subtract(x , 5))\n",
    "y = x * 5\n",
    "print(y)\n",
    "y = np.multiply(x, 5)\n",
    "print(y)"
   ]
  },
  {
   "cell_type": "code",
   "execution_count": 235,
   "id": "4109b7f8",
   "metadata": {},
   "outputs": [
    {
     "name": "stdout",
     "output_type": "stream",
     "text": [
      "[0 1 2]\n",
      "[[0]\n",
      " [1]\n",
      " [2]]\n",
      "[[0 1 2]\n",
      " [1 2 3]\n",
      " [2 3 4]]\n",
      "[[1. 1. 1.]\n",
      " [1. 1. 1.]\n",
      " [1. 1. 1.]]\n",
      "[[0. 0. 0.]\n",
      " [0. 0. 0.]\n",
      " [0. 0. 0.]]\n",
      "[[1. 2. 3.]\n",
      " [1. 2. 3.]\n",
      " [1. 2. 3.]]\n"
     ]
    }
   ],
   "source": [
    "# 브로드케스팅\n",
    "a = np.arange(3)\n",
    "print(a)\n",
    "b = a[:, np.newaxis]\n",
    "print(b)\n",
    "z = a + b # 유니버설함수는 서로 다른 차원일 경우 브로캐스팅을 한다.\n",
    "print(z) \n",
    "# a는 행이 확장이되고 b는 열이 확장이되는 데 이것을 브로드캐스팅이라 한다.\n",
    "# [0 1 2] + [[0][0][0]      [[0 1 2]\n",
    "# [0 1 2]    [1][1][1]   =   [1 2 3]\n",
    "# [0 1 2]    [2][2][2]]      [2 3 4]]\n",
    "M = np.ones((3,3))\n",
    "print(M)\n",
    "M1 = np.zeros((3,3))\n",
    "print(M1)\n",
    "z  = a + M\n",
    "print(z)"
   ]
  },
  {
   "cell_type": "code",
   "execution_count": null,
   "id": "989846d1",
   "metadata": {},
   "outputs": [],
   "source": []
  }
 ],
 "metadata": {
  "kernelspec": {
   "display_name": "Python 3 (ipykernel)",
   "language": "python",
   "name": "python3"
  },
  "language_info": {
   "codemirror_mode": {
    "name": "ipython",
    "version": 3
   },
   "file_extension": ".py",
   "mimetype": "text/x-python",
   "name": "python",
   "nbconvert_exporter": "python",
   "pygments_lexer": "ipython3",
   "version": "3.11.2"
  }
 },
 "nbformat": 4,
 "nbformat_minor": 5
}
