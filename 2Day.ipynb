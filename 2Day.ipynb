{
 "cells": [
  {
   "cell_type": "code",
   "execution_count": 1,
   "id": "74402748",
   "metadata": {},
   "outputs": [
    {
     "name": "stderr",
     "output_type": "stream",
     "text": [
      "C:\\Users\\soldesk\\AppData\\Local\\Temp\\ipykernel_1340\\1014303460.py:1: DeprecationWarning: Importing display from IPython.core.display is deprecated since IPython 7.14, please import from IPython display\n",
      "  from IPython.core.display import display, HTML\n"
     ]
    },
    {
     "data": {
      "text/html": [
       "<style>\n",
       "div.container { width:100% !important; }\n",
       "div.CodeMirror {font-family: Consolas; font-size: 30pt;}\n",
       "div.output { font-size: 20pt; font-weight: bold;}\n",
       "div.input { font-family: Consolas; font-size: 30pt;}\n",
       "div.prompt { min-width: 100px;}\n",
       "</style>\n"
      ],
      "text/plain": [
       "<IPython.core.display.HTML object>"
      ]
     },
     "metadata": {},
     "output_type": "display_data"
    }
   ],
   "source": [
    "from IPython.core.display import display, HTML\n",
    "display(HTML(\n",
    "\"\"\"<style>\n",
    "div.container { width:100% !important; }\n",
    "div.CodeMirror {font-family: Consolas; font-size: 30pt;}\n",
    "div.output { font-size: 20pt; font-weight: bold;}\n",
    "div.input { font-family: Consolas; font-size: 30pt;}\n",
    "div.prompt { min-width: 100px;}\n",
    "</style>\n",
    "\"\"\"))"
   ]
  },
  {
   "cell_type": "code",
   "execution_count": 14,
   "id": "bfdf4f2e",
   "metadata": {},
   "outputs": [
    {
     "data": {
      "text/plain": [
       "'LIFE IS TOO SHORT'"
      ]
     },
     "execution_count": 14,
     "metadata": {},
     "output_type": "execute_result"
    }
   ],
   "source": [
    "# 리터널 : 자연어 : 문자 , 숫자\n",
    "# 숫자 리터널 : 정수리터널 : 10,1\n",
    "#              실수리터널 : 10.6, 0.5\n",
    "#              연산자 : +,-,*,/,%,//,**\n",
    "# 문자열 리터널 : 'abc',\"abc\", '''abc''', \"\"\"abc\"\"\", \"10\", a:변수\n",
    "이숭무 = 10 # 변수인 이숭무\n",
    "a = '이숭무' # 문자열 리터널인 이숭무\n",
    "#              연산자 :  +:연결연산자, *:반복연산자\n",
    "# 문자열 indexing, slicing\n",
    "# 문자열 함수\n",
    "a = 'Life is too short'\n",
    "#    01234567890123456\n",
    "#              1\n",
    "a.count('s')# 문자열안에 's'가 몇개있는지 확인 \n",
    "#문자 's'가 있는 index(위치)가 어디인지 확인\n",
    "a.find('s')\n",
    "#문자 'too'가 있는 index(위치)가 어디인지 확인\n",
    "a.find('too') #'t'의 위치\n",
    "#index 7번 이후부터의 's'의 위치\n",
    "a.find('s',7)\n",
    "#문자 'k'가 있는 index(위치)가 어디인지 확인\n",
    "a.find('k') # 없는 문자인 경우 -1이 출력\n",
    "# find와 같은 함수\n",
    "a.index('s')\n",
    "a.index('too')\n",
    "a.index('s',7)\n",
    "#a.index('k') # index 는 없는 문자인 경우 오류 발생\n",
    "#영문자를 모두 소문자로\n",
    "a.lower()\n",
    "#영문자를 모두 대문자로\n",
    "a.upper()"
   ]
  },
  {
   "cell_type": "code",
   "execution_count": 29,
   "id": "5d969422",
   "metadata": {},
   "outputs": [
    {
     "data": {
      "text/plain": [
       "True"
      ]
     },
     "execution_count": 29,
     "metadata": {},
     "output_type": "execute_result"
    }
   ],
   "source": [
    "a = ' Life is too short '\n",
    "# 양쪽 공백을 제거 할때 사용\n",
    "a.strip()\n",
    "a = 'abLife is too shortab'\n",
    "a.strip('ab')\n",
    "a.rstrip('ab')\n",
    "a.lstrip('ab')\n",
    "a = a.strip('ab')\n",
    "a.replace(\"Life\", \"Your leg \")\n",
    "a\n",
    "a = \"010-1234-1234\"\n",
    "#문자열이 모두 숫자인지 #####\n",
    "a.isdigit()\n",
    "a = \"01012341234\"\n",
    "a.isdigit()\n",
    "a = \"abc def\"\n",
    "a.isalpha()\n",
    "a = \"ab cdef\"\n",
    "a.isalpha()\n",
    "a.islower()\n",
    "a.isupper()"
   ]
  },
  {
   "cell_type": "code",
   "execution_count": 39,
   "id": "55ad5a58",
   "metadata": {},
   "outputs": [
    {
     "data": {
      "text/plain": [
       "'나는 10개의 사과를 먹어서 three일 동안 아팠습니다.'"
      ]
     },
     "execution_count": 39,
     "metadata": {},
     "output_type": "execute_result"
    }
   ],
   "source": [
    "# 문자열 다루기 : 1.포맷문자 , 2. fotmat함수 , 3. f문자\n",
    "number = 10\n",
    "day = \"three\"\n",
    "'''나는 10개의 사과를 먹어서 three일 동안 아팠습니다.'''\n",
    "a = '나는 %d개의 사과를 먹어서 %s일 동안 아팠습니다.' % (number,day )\n",
    "a = '나는 %s개의 사과를 먹어서 %s일 동안 아팠습니다.' % (number,day )\n",
    "a = '나는 {0}개의 사과를 먹어서 {1}일 동안 아팠습니다.'.format(number,day)\n",
    "a = '나는 {0}개의 사과를 먹어서 {d}일 동안 아팠습니다.'.format(number,d='four')\n",
    "a = f'나는 {number}개의 사과를 먹어서 {day}일 동안 아팠습니다.'\n",
    "a"
   ]
  },
  {
   "cell_type": "code",
   "execution_count": null,
   "id": "b7f9298a",
   "metadata": {},
   "outputs": [],
   "source": []
  },
  {
   "cell_type": "code",
   "execution_count": 53,
   "id": "b9a065d7",
   "metadata": {},
   "outputs": [
    {
     "data": {
      "text/plain": [
       "['Your leg', 'is', 'too', 'short']"
      ]
     },
     "execution_count": 53,
     "metadata": {},
     "output_type": "execute_result"
    }
   ],
   "source": [
    "# 자료형 : 리터널 자료형 : 정수(10), 실수(10.6), 문자('a',\"a\") \n",
    "#          리스트 자료형 : [10] : 변수의 단점을 보안하기 위해서 \n",
    "#                         여러개의 값을 저장한다.\n",
    "# a : 변수 : 단점 => 하나의 값만 저장을 한다.\n",
    "a = [] # 빈리스트\n",
    "b = [1, 2, 3]  # 정수를 포함한 리스트\n",
    "c = ['Life', 'is', 'too', 'short']  # 문자열을 포함한 리스트\n",
    "d = [1, 2, 3, 'Life', 'is', 'too', 'short'] # 혼합 리스트\n",
    "e = [1, 2, 3, 'Life', 'is', 'too', 'short', [1, 2, 3] ]  # 리스트를 포함한 혼합리스트\n",
    "# 연산자\n",
    "str1 = \"Life is\"\n",
    "str2 = 'too short'\n",
    "str1 + str2\n",
    "str1 + ' ' + str2\n",
    "\"==\"* 30\n",
    "\n",
    "a = [1,2,3]\n",
    "b = ['aaaa','bbbb','ccccc']\n",
    "a + b\n",
    "a * 3\n",
    "\n",
    "# indexing , slicing\n",
    "a = [1,2,3,4,5]\n",
    "#    0 1 2 3 4\n",
    "a[2]\n",
    "a[2] = 10 # 리스트 안에 있는 요소의 값을 변경하는 경우에는 indexing을 이용한다.\n",
    "a\n",
    "a[2]\n",
    "a[1:3]\n",
    "c = ['Life', 'is', 'too', 'short'] \n",
    "## 'Life'를 \"Your leg\"로 변경\n",
    "c[0] = 'Your leg'\n",
    "c"
   ]
  },
  {
   "cell_type": "code",
   "execution_count": 64,
   "id": "d629c8cf",
   "metadata": {},
   "outputs": [
    {
     "name": "stdout",
     "output_type": "stream",
     "text": [
      "['Life', 'is', 'too', 'short']\n",
      "[1, 2, 3]\n",
      "['Life', 'is', 'too', 'short', 1, 2, 3]\n",
      "['Life', 'is', 'too', 'short']\n",
      "['Life', 'is', 'too', 'short']\n",
      "[1, 2, 3]\n"
     ]
    },
    {
     "data": {
      "text/plain": [
       "['Life', 'is', 'too', 'short', [1, 2, 3]]"
      ]
     },
     "execution_count": 64,
     "metadata": {},
     "output_type": "execute_result"
    }
   ],
   "source": [
    "# 리스트 함수\n",
    "### 리스트에 요소 추가 \n",
    "l = ['Life', 'is'] #문자열을 가진 리스트\n",
    "l\n",
    "# 리스트 마지막에 요소 추가하기 ['Life', 'is', 'too']\n",
    "l.append('too')\n",
    "l\n",
    "l.append('short')\n",
    "l\n",
    "# 원하는 위치에 요소 삽입하기\n",
    "l = ['Life', 'short']  # ['Life', 'is', 'short']\n",
    "#      0       1       :    0      1       2\n",
    "l.insert(1, 'is') \n",
    "# ['Life', 'is', 'short']  # ['Life', 'is', 'too' , 'short']\n",
    "#    0       1      2            0      1     2        3\n",
    "l.insert(2,'too')\n",
    "l\n",
    "a =  [1,2,3] \n",
    "print(l)\n",
    "print(a)\n",
    "# ['Life', 'is', 'too', 'short', 1, 2, 3]\n",
    "print(l + a) # 리스트 연결하기 : 원 데이터는 변경되지 않는다.\n",
    "print(l)\n",
    "# 리스트 확장\n",
    "l.extend(a) \n",
    "l\n",
    "l = ['Life', 'is', 'too', 'short']\n",
    "print(l)\n",
    "print(a) # [1, 2, 3]\n",
    "# ['Life', 'is', 'too', 'short', 1, 2, 3]\n",
    "#   0       1     2       3     4  5  6 \n",
    "l.append(a) # ['Life', 'is', 'too', 'short', [1, 2, 3] ]\n",
    "l           #    0      1      2      3         4"
   ]
  },
  {
   "cell_type": "code",
   "execution_count": 85,
   "id": "99ecbdef",
   "metadata": {},
   "outputs": [
    {
     "name": "stdout",
     "output_type": "stream",
     "text": [
      "9\n",
      "8\n",
      "7\n"
     ]
    }
   ],
   "source": [
    "l = ['Life', 'is', 'too', 'short', 1, 2, 3]\n",
    "#      0      1      2       3     4  5  6\n",
    "# index를 이용해서 요소 삭제\n",
    "l[4]\n",
    "del l[4]\n",
    "l # ['Life', 'is', 'too', 'short', 2, 3]\n",
    "#      0       1     2       3     4  5\n",
    "# slicing을 이용해서 요소 삭제\n",
    "del l[4:4+2]\n",
    "l  # ['Life', 'is', 'too', 'short']\n",
    "#       0      1      2       3\n",
    "del l[2:]\n",
    "l\n",
    "l = ['Life', 'is', 'too', 'short', 1, 2, 3,[1],'1']\n",
    "# 요소의 값을 이용해서 요소 삭제\n",
    "l.remove(1)\n",
    "l\n",
    "l.remove([1])\n",
    "l\n",
    "l.remove('1')\n",
    "l\n",
    "l.remove('is')\n",
    "l\n",
    "#리스트에서 값을 가지고 나오기  ['Life', 'too', 'short', 2, 3]\n",
    "result = l.pop() \n",
    "result\n",
    "l #  ['Life', 'too', 'short', 2] # 비 복원 추출\n",
    "result = l.pop() \n",
    "result\n",
    "l\n",
    "# pop에 index를 사용해서 요소의 값을 추출\n",
    "l = ['Life', 'is', 'too', 'short', 1, 2, 3,[1],'1']\n",
    "#      0      1       2      3      4  5 6  7   8\n",
    "l\n",
    "print(len(l))\n",
    "result = l.pop(2)\n",
    "result\n",
    "l # ['Life', 'is', 'short', 1, 2, 3, [1], '1']\n",
    "#      0      1      2      3  4  5   6    7\n",
    "print(len(l))\n",
    "result = l.pop(2)\n",
    "result\n",
    "l\n",
    "print(len(l))"
   ]
  },
  {
   "cell_type": "code",
   "execution_count": 90,
   "id": "e75a2e7d",
   "metadata": {},
   "outputs": [
    {
     "data": {
      "text/plain": [
       "[3, 2, 4, 1]"
      ]
     },
     "execution_count": 90,
     "metadata": {},
     "output_type": "execute_result"
    }
   ],
   "source": [
    "# 정렬\n",
    "a = [1, 4, 2, 3]\n",
    "a\n",
    "# 오름차순으로 정렬\n",
    "a.sort()\n",
    "a\n",
    "# 내림차순으로 정렬\n",
    "a.sort(reverse=True)\n",
    "a # [4, 3, 2, 1]\n",
    "a = [1, 4, 2, 3]\n",
    "a\n",
    "a.reverse()\n",
    "a"
   ]
  },
  {
   "cell_type": "code",
   "execution_count": 103,
   "id": "a4f1a2e7",
   "metadata": {},
   "outputs": [
    {
     "name": "stdout",
     "output_type": "stream",
     "text": [
      "2\n",
      "3\n",
      "2\n",
      "1\n",
      "4\n"
     ]
    }
   ],
   "source": [
    "str3 = 'hobby'\n",
    "str3.count('b')\n",
    "print(str3.index('b'))\n",
    "print(str3.index('b',3))\n",
    "print(str3.find('b'))\n",
    "# 같은 값의 갯수\n",
    "a = [1, 4, 2, 5, 4, 3]\n",
    "a.count(4)\n",
    "print(a.index(4))\n",
    "print(a.index(4, 2))\n",
    "# print(a.find(4)) #리스트에는  find함수가 없다."
   ]
  },
  {
   "cell_type": "code",
   "execution_count": 111,
   "id": "39f5a633",
   "metadata": {},
   "outputs": [
    {
     "name": "stdout",
     "output_type": "stream",
     "text": [
      "1\n",
      "1\n",
      "[1]\n",
      "[4]\n",
      "4\n",
      "4\n",
      "16\n",
      "(4,)\n",
      "(2, 3)\n"
     ]
    }
   ],
   "source": [
    "# 파이썬 자료형\n",
    "# 정수형 자료형 : 10, 1\n",
    "# 실수형 자료형 : 10.3\n",
    "# 문자열형 자료형 : \"1\",'a',\"\"\"가\"\"\", '''abcd''' , a :변수\n",
    "# 리스트 자료형 : []=>빈리스트, [1]=>정수 리스트, ['z']=>문자 리스트\n",
    "# 튜플 자료형 : (), (1,), (1,2), (1,'z')\n",
    "print(1) # 정수형 자료형\n",
    "print('1') #문자열형 자료형\n",
    "print([1]) # 리스트 자료형\n",
    "a = [1+3, 4]\n",
    "a\n",
    "print([1+3])\n",
    "print(a[0])\n",
    "print((1+3)) # 최우선 연산자\n",
    "print((1+3) * 4)\n",
    "print((1+3,)) # 요소가 한개인 경우\n",
    "print((2,3))"
   ]
  },
  {
   "cell_type": "code",
   "execution_count": 113,
   "id": "20f46508",
   "metadata": {},
   "outputs": [],
   "source": [
    "l = [] # 빈 리스트\n",
    "t = () # 빈 튜플\n",
    "t1 = (1,)\n",
    "t2 = (1,2,3)\n",
    "t3 =  (1,2,3,'a', 'b')  # 혼합형 튜플\n",
    "l1 = [1,2,3,[4,5,6]] # 리스트를 포함하고 있는 리스트\n",
    "t4 = (1,2,3,(4,5,6)) # 튜플을 포함하고 있는 튜플\n",
    "t5 = (1,2,3,(4,5,6),[1,2,3], \"이숭무\") "
   ]
  },
  {
   "cell_type": "code",
   "execution_count": 119,
   "id": "499712bd",
   "metadata": {},
   "outputs": [
    {
     "name": "stdout",
     "output_type": "stream",
     "text": [
      "3\n",
      "(2, 3)\n",
      "2\n",
      "(2,)\n",
      "1\n",
      "3\n"
     ]
    }
   ],
   "source": [
    "# indexing, slicing을 할 수 있다.\n",
    "t2 = (1,2,3,2)\n",
    "#     0 1 2 3\n",
    "print(t2[2])\n",
    "print(t2[1:1+2])\n",
    "print(t2[1]) # indexing을 하면 요소의 값을 가지고 온다\n",
    "print(t2[1:1+1]) # slicing을 하면 튜플로 가지고 온다.\n",
    "print(t2.index(2))\n",
    "print(t2.index(2,2))"
   ]
  },
  {
   "cell_type": "code",
   "execution_count": 133,
   "id": "f1238682",
   "metadata": {},
   "outputs": [
    {
     "data": {
      "text/plain": [
       "['h', 'e', 'l', 'l', 'o']"
      ]
     },
     "execution_count": 133,
     "metadata": {},
     "output_type": "execute_result"
    }
   ],
   "source": [
    "# 리스트와 튜플의 차이점\n",
    "#     0 1 2 3\n",
    "l =  [1,2,3,2]\n",
    "t2 = (1,2,3,2)\n",
    "l[2] = 10\n",
    "l\n",
    "# t2[2] = 10 요소를 변경 할 수 없다.\n",
    "del l[2]\n",
    "l\n",
    "# del t2[2]\n",
    "# 요소가 변경이 되어도 되는 경우에는 리스트를 사용하지만 \n",
    "# 요소가 변경되어서는 안되는 경우에는 튜플을 사용한다.\n",
    "str1 = \"hello\"\n",
    "#문자열을 리스트로\n",
    "l = list(str1)\n",
    "l\n",
    "# 리스트를 문자열로\n",
    "str2 = \"\".join(l)\n",
    "str2\n",
    "str3 = \"abd\".join(l)\n",
    "str3\n",
    "# 문자열을 튜플로\n",
    "t = tuple(str1)\n",
    "t\n",
    "str4 = \"\".join(t)\n",
    "str4\n",
    "l2 = list(t)\n",
    "l2"
   ]
  },
  {
   "cell_type": "code",
   "execution_count": 140,
   "id": "29f99dd5",
   "metadata": {},
   "outputs": [
    {
     "name": "stdout",
     "output_type": "stream",
     "text": [
      "2\n",
      "a\n",
      "[1, 2, 3]\n",
      "(1, 2, 3)\n",
      "2\n",
      "[1, 2, 3]\n",
      "2\n",
      "l\n",
      "('a', 'b', [1, 2, 3])\n",
      "('b', [1, 2, 3], (1, 2, 3))\n"
     ]
    }
   ],
   "source": [
    "t7 = (1, 2, 3, \"a\", \"b\", [1,2,3], (1,2,3))\n",
    "#     0  1  2   3   4       5        6\n",
    "#                         0 1 2    0 1 2\n",
    "print(t7[1])\n",
    "print(t7[3])\n",
    "print(t7[5]) # 리스트\n",
    "print(t7[6]) # 튜플\n",
    "print(t7[5][1]) # 리스트에 있는 2출력\n",
    "print(t7[5]) # [1, 2, 3]\n",
    "print([1, 2, 3][1])\n",
    "print(\"hello\"[2])\n",
    "print(t7[3:3+3])\n",
    "print(t7[4:])"
   ]
  },
  {
   "cell_type": "code",
   "execution_count": 143,
   "id": "8c71b89e",
   "metadata": {},
   "outputs": [
    {
     "name": "stdout",
     "output_type": "stream",
     "text": [
      "2\n",
      "2\n"
     ]
    }
   ],
   "source": [
    "t8 = 1, 2, 3, \"a\", \"b\", [1,2,3], (1,2,3), 3\n",
    "t8\n",
    "print(t8.index(3))\n",
    "print(t8.count(3))"
   ]
  },
  {
   "cell_type": "code",
   "execution_count": null,
   "id": "0c9d9199",
   "metadata": {},
   "outputs": [],
   "source": [
    "# 파이썬 자료형\n",
    "# 정수 자료형\n",
    "# 실수 자료형\n",
    "# 문자열 자료형\n",
    "# 리스트 자료형\n",
    "# 튜플 자료형\n",
    "# 딕셔너리(사전) 자료형"
   ]
  }
 ],
 "metadata": {
  "kernelspec": {
   "display_name": "Python 3 (ipykernel)",
   "language": "python",
   "name": "python3"
  },
  "language_info": {
   "codemirror_mode": {
    "name": "ipython",
    "version": 3
   },
   "file_extension": ".py",
   "mimetype": "text/x-python",
   "name": "python",
   "nbconvert_exporter": "python",
   "pygments_lexer": "ipython3",
   "version": "3.11.2"
  }
 },
 "nbformat": 4,
 "nbformat_minor": 5
}
