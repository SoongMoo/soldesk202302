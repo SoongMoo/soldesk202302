{
 "cells": [
  {
   "cell_type": "code",
   "execution_count": 1,
   "id": "811153c3",
   "metadata": {},
   "outputs": [
    {
     "name": "stderr",
     "output_type": "stream",
     "text": [
      "C:\\Users\\soldesk\\AppData\\Local\\Temp\\ipykernel_3544\\1014303460.py:1: DeprecationWarning: Importing display from IPython.core.display is deprecated since IPython 7.14, please import from IPython display\n",
      "  from IPython.core.display import display, HTML\n"
     ]
    },
    {
     "data": {
      "text/html": [
       "<style>\n",
       "div.container { width:100% !important; }\n",
       "div.CodeMirror {font-family: Consolas; font-size: 30pt;}\n",
       "div.output { font-size: 20pt; font-weight: bold;}\n",
       "div.input { font-family: Consolas; font-size: 30pt;}\n",
       "div.prompt { min-width: 100px;}\n",
       "</style>\n"
      ],
      "text/plain": [
       "<IPython.core.display.HTML object>"
      ]
     },
     "metadata": {},
     "output_type": "display_data"
    }
   ],
   "source": [
    "from IPython.core.display import display, HTML\n",
    "display(HTML(\n",
    "\"\"\"<style>\n",
    "div.container { width:100% !important; }\n",
    "div.CodeMirror {font-family: Consolas; font-size: 30pt;}\n",
    "div.output { font-size: 20pt; font-weight: bold;}\n",
    "div.input { font-family: Consolas; font-size: 30pt;}\n",
    "div.prompt { min-width: 100px;}\n",
    "</style>\n",
    "\"\"\"))"
   ]
  },
  {
   "cell_type": "code",
   "execution_count": 3,
   "id": "5f39d0cf",
   "metadata": {},
   "outputs": [
    {
     "name": "stdout",
     "output_type": "stream",
     "text": [
      "success\n",
      "success\n"
     ]
    }
   ],
   "source": [
    "'''\n",
    "score가 60이면 message 변수에 success를 아니면 message 에 failure를 저장한 후 출력\n",
    "'''\n",
    "score = 75\n",
    "if score >= 60:\n",
    "    message = \"success\"\n",
    "else:\n",
    "    message = \"failure\"\n",
    "print(message)\n",
    "\n",
    "message = \"success\" if score >= 60 else \"failure\"\n",
    "print(message)"
   ]
  },
  {
   "cell_type": "code",
   "execution_count": 5,
   "id": "d9922742",
   "metadata": {},
   "outputs": [
    {
     "name": "stdout",
     "output_type": "stream",
     "text": [
      "30\n"
     ]
    }
   ],
   "source": [
    "# 사직연산\n",
    "a  = 10; b = 20; opt = \"add\"\n",
    "if opt == \"add\":\n",
    "    result = a + b\n",
    "elif opt == \"sub\":\n",
    "    result = a - b\n",
    "elif opt == \"mul\":\n",
    "    result = a * b\n",
    "else:\n",
    "    result = a / b\n",
    "print(result)"
   ]
  },
  {
   "cell_type": "code",
   "execution_count": 6,
   "id": "1a24efef",
   "metadata": {},
   "outputs": [
    {
     "name": "stdout",
     "output_type": "stream",
     "text": [
      "30\n"
     ]
    }
   ],
   "source": [
    "if opt == \"add\":\n",
    "    result = a + b\n",
    "else:\n",
    "    if opt == \"sub\":\n",
    "        result = a - b\n",
    "    else:\n",
    "        if opt == \"mul\":\n",
    "            result = a * b\n",
    "        else:\n",
    "            result = a / b\n",
    "print(result)"
   ]
  },
  {
   "cell_type": "code",
   "execution_count": 7,
   "id": "947523cf",
   "metadata": {},
   "outputs": [
    {
     "name": "stdout",
     "output_type": "stream",
     "text": [
      "30\n"
     ]
    }
   ],
   "source": [
    "### 파이썬 스타일\n",
    "result = a + b if opt == \"add\" else ( a - b if opt == \"sub\"\n",
    "                               else ( a * b if opt == \"mul\"\n",
    "                               else a / b)\n",
    "                            )\n",
    "print(result)"
   ]
  },
  {
   "cell_type": "code",
   "execution_count": 8,
   "id": "b42b0f3d",
   "metadata": {},
   "outputs": [
    {
     "name": "stdout",
     "output_type": "stream",
     "text": [
      "나무를 1번 찍었습니다.\n",
      "나무를 2번 찍었습니다.\n",
      "나무를 3번 찍었습니다.\n",
      "나무를 4번 찍었습니다.\n",
      "나무를 5번 찍었습니다.\n",
      "나무를 6번 찍었습니다.\n",
      "나무를 7번 찍었습니다.\n",
      "나무를 8번 찍었습니다.\n",
      "나무를 9번 찍었습니다.\n",
      "나무를 10번 찍었습니다.\n",
      "나무가 넘어갑니다.\n"
     ]
    }
   ],
   "source": [
    "### 반복문\n",
    "print(\"나무를 1번 찍었습니다.\")\n",
    "print(\"나무를 2번 찍었습니다.\")\n",
    "print(\"나무를 3번 찍었습니다.\")\n",
    "print(\"나무를 4번 찍었습니다.\")\n",
    "print(\"나무를 5번 찍었습니다.\")\n",
    "print(\"나무를 6번 찍었습니다.\")\n",
    "print(\"나무를 7번 찍었습니다.\")\n",
    "print(\"나무를 8번 찍었습니다.\")\n",
    "print(\"나무를 9번 찍었습니다.\")\n",
    "print(\"나무를 10번 찍었습니다.\")\n",
    "print(\"나무가 넘어갑니다.\")"
   ]
  },
  {
   "cell_type": "code",
   "execution_count": 13,
   "id": "5df1ada2",
   "metadata": {},
   "outputs": [
    {
     "name": "stdout",
     "output_type": "stream",
     "text": [
      "나무를 1번 찍었습니다.\n",
      "나무를 2번 찍었습니다.\n",
      "나무를 3번 찍었습니다.\n",
      "나무를 4번 찍었습니다.\n",
      "나무를 5번 찍었습니다.\n",
      "나무를 6번 찍었습니다.\n",
      "나무를 7번 찍었습니다.\n",
      "나무를 8번 찍었습니다.\n",
      "나무를 9번 찍었습니다.\n",
      "나무를 10번 찍었습니다.\n",
      "나무가 넘어갑니다.\n"
     ]
    },
    {
     "data": {
      "text/plain": [
       "'\\n반복문\\n반복적인 명령문이 있는 경우 한번만 사용해도 똑 같은 결과를 얻도록 하는 것이\\n반복문이다. while, for\\n'"
      ]
     },
     "execution_count": 13,
     "metadata": {},
     "output_type": "execute_result"
    }
   ],
   "source": [
    "# print(\"나무를 i번 찍었습니다.\")를 10번실행\n",
    "i = 1\n",
    "while i <= 10:\n",
    "    #print(f\"나무를 {i}번 찍었습니다.\")\n",
    "    #print(\"나무를 %d번 찍었습니다.\" % i)\n",
    "    #print(\"나무를 {0}번 찍었습니다.\".format(i))\n",
    "    print(\"나무를 {num}번 찍었습니다.\".format(num=i))\n",
    "    i+=1\n",
    "print(\"나무가 넘어갑니다.\")\n",
    "'''\n",
    "반복문\n",
    "반복적인 명령문이 있는 경우 한번만 사용해도 똑 같은 결과를 얻도록 하는 것이\n",
    "반복문이다. while, for\n",
    "'''"
   ]
  },
  {
   "cell_type": "code",
   "execution_count": 21,
   "id": "d2044deb",
   "metadata": {},
   "outputs": [
    {
     "name": "stdout",
     "output_type": "stream",
     "text": [
      "8  * 1 = 8\n",
      "8  * 2 = 16\n",
      "8  * 3 = 24\n",
      "8  * 4 = 32\n",
      "8  * 5 = 40\n",
      "8  * 6 = 48\n",
      "8  * 7 = 56\n",
      "8  * 8 = 64\n",
      "8  * 9 = 72\n",
      "============================================================\n",
      "2  * 1 = 8\n",
      "2  * 2 = 16\n",
      "2  * 3 = 24\n",
      "2  * 4 = 32\n",
      "2  * 5 = 40\n",
      "2  * 6 = 48\n",
      "2  * 7 = 56\n",
      "2  * 8 = 64\n",
      "2  * 9 = 72\n"
     ]
    }
   ],
   "source": [
    "'''\n",
    "8단 출력\n",
    "8  * 1 = 8\n",
    "8  * 2 = 16\n",
    "8  * 3 = 24\n",
    "8  * 4 = 32\n",
    "8  * 5 = 40\n",
    "8  * 6 = 48\n",
    "8  * 7 = 56\n",
    "8  * 8 = 64\n",
    "8  * 9 = 72\n",
    "'''\n",
    "print(f\"8  * 1 = {8 * 1}\")\n",
    "print(f\"8  * 2 = {8 * 2}\")\n",
    "print(f\"8  * 3 = {8 * 3}\")\n",
    "print(f\"8  * 4 = {8 * 4}\")\n",
    "print(f\"8  * 5 = {8 * 5}\")\n",
    "print(f\"8  * 6 = {8 * 6}\")\n",
    "print(f\"8  * 7 = {8 * 7}\")\n",
    "print(f\"8  * 8 = {8 * 8}\")\n",
    "print(f\"8  * 9 = {8 * 9}\")\n",
    "# print(f\"8  * i = {8 * i}\")\n",
    "print(\"==\" * 30)\n",
    "i = 1\n",
    "while i <= 9:\n",
    "    print(f\"8  * {i} = {8 * i}\")\n",
    "    i += 1"
   ]
  },
  {
   "cell_type": "code",
   "execution_count": 29,
   "id": "c8ea8841",
   "metadata": {},
   "outputs": [
    {
     "name": "stdout",
     "output_type": "stream",
     "text": [
      "단을 입력해주세요.4\n",
      "4  * 1 = 4\n",
      "4  * 2 = 8\n",
      "4  * 3 = 12\n",
      "4  * 4 = 16\n",
      "4  * 5 = 20\n",
      "4  * 6 = 24\n",
      "4  * 7 = 28\n",
      "4  * 8 = 32\n",
      "4  * 9 = 36\n"
     ]
    }
   ],
   "source": [
    "dan = int(input(\"단을 입력해주세요.\"))\n",
    "i = 1\n",
    "while i <= 9:\n",
    "    print(f\"{dan}  * {i} = {dan * i}\")\n",
    "    i += 1"
   ]
  },
  {
   "cell_type": "code",
   "execution_count": 32,
   "id": "8019001f",
   "metadata": {},
   "outputs": [
    {
     "name": "stdout",
     "output_type": "stream",
     "text": [
      "8  * 1 = 8\n",
      "8  * 3 = 24\n",
      "8  * 5 = 40\n",
      "8  * 7 = 56\n",
      "8  * 9 = 72\n",
      "단을 입력해주세요.3\n",
      "3  * 1 = 3\n",
      "3  * 3 = 9\n",
      "3  * 5 = 15\n",
      "3  * 7 = 21\n",
      "3  * 9 = 27\n"
     ]
    }
   ],
   "source": [
    "print(f\"8  * 1 = {8 * 1}\")\n",
    "print(f\"8  * 3 = {8 * 3}\")\n",
    "print(f\"8  * 5 = {8 * 5}\")\n",
    "print(f\"8  * 7 = {8 * 7}\")\n",
    "print(f\"8  * 9 = {8 * 9}\")\n",
    "dan = int(input(\"단을 입력해주세요.\"))\n",
    "i = 1\n",
    "while i <= 9:\n",
    "    print(f\"{dan}  * {i} = {dan * i}\")\n",
    "    i += 2"
   ]
  },
  {
   "cell_type": "code",
   "execution_count": 34,
   "id": "77c2775a",
   "metadata": {},
   "outputs": [
    {
     "name": "stdout",
     "output_type": "stream",
     "text": [
      "8  * 4 = 32\n",
      "8  * 5 = 40\n",
      "8  * 6 = 48\n",
      "8  * 7 = 56\n",
      "단을 입력해주세요.5\n",
      "시작곱을 입력해주세요.4\n",
      "마지막곱을 입력해주세요.7\n",
      "5  * 4 = 20\n",
      "5  * 5 = 25\n",
      "5  * 6 = 30\n",
      "5  * 7 = 35\n"
     ]
    }
   ],
   "source": [
    "print(f\"8  * 4 = {8 * 4}\")\n",
    "print(f\"8  * 5 = {8 * 5}\")\n",
    "print(f\"8  * 6 = {8 * 6}\")\n",
    "print(f\"8  * 7 = {8 * 7}\")\n",
    "dan = int(input(\"단을 입력해주세요.\"))\n",
    "startGup = int(input(\"시작곱을 입력해주세요.\"))\n",
    "endGup = int(input(\"마지막곱을 입력해주세요.\"))\n",
    "i = startGup\n",
    "while i <= endGup:\n",
    "    print(f\"{dan}  * {i} = {dan * i}\")\n",
    "    i += 1"
   ]
  },
  {
   "cell_type": "code",
   "execution_count": 36,
   "id": "d619a302",
   "metadata": {},
   "outputs": [
    {
     "name": "stdout",
     "output_type": "stream",
     "text": [
      "3  * 1 = 3\n",
      "3  * 2 = 6\n",
      "3  * 3 = 9\n",
      "3  * 4 = 12\n",
      "3  * 5 = 15\n",
      "3  * 6 = 18\n",
      "3  * 7 = 21\n",
      "3  * 8 = 24\n",
      "3  * 9 = 27\n",
      "4  * 1 = 4\n",
      "4  * 2 = 8\n",
      "4  * 3 = 12\n",
      "4  * 4 = 16\n",
      "4  * 5 = 20\n",
      "4  * 6 = 24\n",
      "4  * 7 = 28\n",
      "4  * 8 = 32\n",
      "4  * 9 = 36\n",
      "5  * 1 = 5\n",
      "5  * 2 = 10\n",
      "5  * 3 = 15\n",
      "5  * 4 = 20\n",
      "5  * 5 = 25\n",
      "5  * 6 = 30\n",
      "5  * 7 = 35\n",
      "5  * 8 = 40\n",
      "5  * 9 = 45\n",
      "6  * 1 = 6\n",
      "6  * 2 = 12\n",
      "6  * 3 = 18\n",
      "6  * 4 = 24\n",
      "6  * 5 = 30\n",
      "6  * 6 = 36\n",
      "6  * 7 = 42\n",
      "6  * 8 = 48\n",
      "6  * 9 = 54\n"
     ]
    }
   ],
   "source": [
    "# 3단을 출력하시오\n",
    "i = 1\n",
    "while i <= 9:\n",
    "    print(f\"3  * {i} = {3 * i}\")\n",
    "    i += 1\n",
    "# 4단을 출력하시오\n",
    "i = 1\n",
    "while i <= 9:\n",
    "    print(f\"4  * {i} = {4 * i}\")\n",
    "    i += 1\n",
    "# 5단을 출력하시오\n",
    "i = 1\n",
    "while i <= 9:\n",
    "    print(f\"5  * {i} = {5 * i}\")\n",
    "    i += 1\n",
    "# 6단을 출력하시오\n",
    "i = 1\n",
    "while i <= 9:\n",
    "    print(f\"6  * {i} = {6 * i}\")\n",
    "    i += 1"
   ]
  },
  {
   "cell_type": "code",
   "execution_count": 38,
   "id": "a8008f22",
   "metadata": {},
   "outputs": [
    {
     "name": "stdout",
     "output_type": "stream",
     "text": [
      "3  * 1 = 3\n",
      "3  * 2 = 6\n",
      "3  * 3 = 9\n",
      "3  * 4 = 12\n",
      "3  * 5 = 15\n",
      "3  * 6 = 18\n",
      "3  * 7 = 21\n",
      "3  * 8 = 24\n",
      "3  * 9 = 27\n",
      "4  * 1 = 4\n",
      "4  * 2 = 8\n",
      "4  * 3 = 12\n",
      "4  * 4 = 16\n",
      "4  * 5 = 20\n",
      "4  * 6 = 24\n",
      "4  * 7 = 28\n",
      "4  * 8 = 32\n",
      "4  * 9 = 36\n",
      "5  * 1 = 5\n",
      "5  * 2 = 10\n",
      "5  * 3 = 15\n",
      "5  * 4 = 20\n",
      "5  * 5 = 25\n",
      "5  * 6 = 30\n",
      "5  * 7 = 35\n",
      "5  * 8 = 40\n",
      "5  * 9 = 45\n",
      "6  * 1 = 6\n",
      "6  * 2 = 12\n",
      "6  * 3 = 18\n",
      "6  * 4 = 24\n",
      "6  * 5 = 30\n",
      "6  * 6 = 36\n",
      "6  * 7 = 42\n",
      "6  * 8 = 48\n",
      "6  * 9 = 54\n"
     ]
    }
   ],
   "source": [
    "dan = 3 # 2중 반복문\n",
    "startGup = 1\n",
    "endGup = 9\n",
    "while dan <= 6:\n",
    "    i = startGup\n",
    "    while i <= endGup:\n",
    "        print(f\"{dan}  * {i} = {dan * i}\")\n",
    "        i += 1\n",
    "    dan += 1"
   ]
  },
  {
   "cell_type": "code",
   "execution_count": 41,
   "id": "7f7b24ef",
   "metadata": {},
   "outputs": [
    {
     "name": "stdout",
     "output_type": "stream",
     "text": [
      "시작단을 입력해주세요2\n",
      "마지막단을 입력해주세요.6\n",
      "시작곱을 입력해주세요4\n",
      "마지막곱을 입력해주세요8\n",
      "2  * 4 = 8\n",
      "2  * 5 = 10\n",
      "2  * 6 = 12\n",
      "2  * 7 = 14\n",
      "2  * 8 = 16\n",
      "3  * 4 = 12\n",
      "3  * 5 = 15\n",
      "3  * 6 = 18\n",
      "3  * 7 = 21\n",
      "3  * 8 = 24\n",
      "4  * 4 = 16\n",
      "4  * 5 = 20\n",
      "4  * 6 = 24\n",
      "4  * 7 = 28\n",
      "4  * 8 = 32\n",
      "5  * 4 = 20\n",
      "5  * 5 = 25\n",
      "5  * 6 = 30\n",
      "5  * 7 = 35\n",
      "5  * 8 = 40\n",
      "6  * 4 = 24\n",
      "6  * 5 = 30\n",
      "6  * 6 = 36\n",
      "6  * 7 = 42\n",
      "6  * 8 = 48\n"
     ]
    }
   ],
   "source": [
    "startDan = int(input(\"시작단을 입력해주세요\"))\n",
    "endDan = int(input(\"마지막단을 입력해주세요.\"))\n",
    "startGup = int(input(\"시작곱을 입력해주세요\"))\n",
    "endGup = int(input(\"마지막곱을 입력해주세요\"))\n",
    "\n",
    "dan = startDan\n",
    "while dan <= endDan:\n",
    "    i = startGup\n",
    "    while i <= endGup:\n",
    "        print(f\"{dan}  * {i} = {dan * i}\")\n",
    "        i += 1\n",
    "    dan += 1"
   ]
  },
  {
   "cell_type": "code",
   "execution_count": 58,
   "id": "91e985d6",
   "metadata": {
    "scrolled": true
   },
   "outputs": [
    {
     "name": "stdout",
     "output_type": "stream",
     "text": [
      "31, 9, 10, 20, 4, 13, "
     ]
    }
   ],
   "source": [
    "# 리스트 자료형과 반복문을 이용해서 로또램을 만들자\n",
    "import random # library : python으로 만든 API\n",
    "lotto = [] # 빈리스트\n",
    "i = 1 \n",
    "while i <= 45:\n",
    "    lotto.append(i)\n",
    "    i+=1\n",
    "print(lotto)\n",
    "print(f\"len(lotto) :  {len(lotto)}\")\n",
    "lottosize = len(lotto) # 45\n",
    "lottocnt = 6\n",
    "while lottocnt >= 1:\n",
    "    lottosize -= 1 # 44, 반복을 할 때마다 1씩 감소\n",
    "    idx = random.randint(0, lottosize) # 0 ~ 44 \n",
    "    lottonum =  lotto.pop(idx)\n",
    "    print(lottonum, end=\", \")\n",
    "    lottocnt -= 1"
   ]
  },
  {
   "cell_type": "code",
   "execution_count": 61,
   "id": "b4ac2a0e",
   "metadata": {},
   "outputs": [
    {
     "name": "stdout",
     "output_type": "stream",
     "text": [
      "구매 수량을 입력해주세요4\n",
      "14, 35, 6, 11, 37, 18, \n",
      "24, 22, 45, 36, 42, 25, \n",
      "24, 15, 43, 40, 5, 13, \n",
      "24, 29, 38, 30, 20, 17, \n"
     ]
    }
   ],
   "source": [
    "import random # library : python으로 만든 API\n",
    "lotto = [] # 빈리스트\n",
    "qty = int(input(\"구매 수량을 입력해주세요\"))\n",
    "cnt = 1\n",
    "while cnt <= qty:\n",
    "    i = 1 \n",
    "    while i <= 45:\n",
    "        lotto.append(i)\n",
    "        i+=1\n",
    "    lottosize = len(lotto) # 45\n",
    "    lottocnt = 6\n",
    "    while lottocnt >= 1:\n",
    "        lottosize -= 1 # 44, 반복을 할 때마다 1씩 감소\n",
    "        idx = random.randint(0, lottosize) # 0 ~ 44 \n",
    "        lottonum =  lotto.pop(idx)\n",
    "        print(lottonum, end=\", \")\n",
    "        lottocnt -= 1\n",
    "    lotto.clear()\n",
    "    cnt += 1\n",
    "    print()"
   ]
  },
  {
   "cell_type": "code",
   "execution_count": 71,
   "id": "94ad83b5",
   "metadata": {},
   "outputs": [
    {
     "name": "stdout",
     "output_type": "stream",
     "text": [
      "5050\n"
     ]
    }
   ],
   "source": [
    "### 1 ~ 100까지의 합을 구하시오.\n",
    "i = 1\n",
    "sum1 = 0\n",
    "while i <= 100: # i가 101이 False가 되면 반복을 종료\n",
    "    sum1 += i\n",
    "    i += 1 # 101\n",
    "print(sum1)"
   ]
  },
  {
   "cell_type": "code",
   "execution_count": 72,
   "id": "99785c07",
   "metadata": {},
   "outputs": [
    {
     "name": "stdout",
     "output_type": "stream",
     "text": [
      "5050\n"
     ]
    }
   ],
   "source": [
    "i = 1\n",
    "sum1 = 0\n",
    "while True:\n",
    "    if i == 101: \n",
    "        break #  반복을 강제 종료 시킴, break문을 만나면 다음 명령문은 실행되지 않는다.\n",
    "    sum1 += i\n",
    "    i += 1\n",
    "print(sum1)"
   ]
  },
  {
   "cell_type": "code",
   "execution_count": 86,
   "id": "d555fded",
   "metadata": {},
   "outputs": [],
   "source": [
    "# 1 ~ 20중 짝수만 출력하시오,\n",
    "i = 0\n",
    "### 조건식은 관계연산이므로 bool타입이 온다.\n",
    "while i <= 20: # i가 21이 되면 더 이상 반복을 중지 : False\n",
    "    i += 1 # 1,2,3,4,5,6,7,8,9,...,21\n",
    "    if i % 2 == 1:\n",
    "        continue\n",
    "    print(i)"
   ]
  },
  {
   "cell_type": "code",
   "execution_count": 87,
   "id": "5133a982",
   "metadata": {},
   "outputs": [
    {
     "name": "stdout",
     "output_type": "stream",
     "text": [
      "1\n",
      "3\n",
      "5\n",
      "7\n",
      "9\n",
      "11\n",
      "13\n",
      "15\n",
      "17\n",
      "19\n"
     ]
    }
   ],
   "source": [
    "# 1 ~ 20중 홀수만 출력하시오,\n",
    "i = 0\n",
    "while i <= 19: # i가 21이 되면 더 이상 반복을 중지 : False\n",
    "    i += 1 \n",
    "    if i % 2 == 0:\n",
    "        continue\n",
    "    print(i)"
   ]
  },
  {
   "cell_type": "code",
   "execution_count": 95,
   "id": "0ff610ca",
   "metadata": {},
   "outputs": [
    {
     "name": "stdout",
     "output_type": "stream",
     "text": [
      "2500\n",
      "2500\n",
      "2500\n"
     ]
    }
   ],
   "source": [
    "# 1 ~ 100중 홀수의 합을 구하시오. # 3방법\n",
    "i = 0\n",
    "sum1 = 0\n",
    "while i <= 99:\n",
    "    i += 1 # 101\n",
    "    if i % 2 == 0:\n",
    "        continue\n",
    "    sum1 += i \n",
    "print(sum1) # 5050\n",
    "\n",
    "i = 0\n",
    "sum1 = 0\n",
    "while i <= 99:\n",
    "    i += 1\n",
    "    if i % 2 == 1:\n",
    "        sum1 += i \n",
    "print(sum1)\n",
    "\n",
    "i = 0\n",
    "sum1 = 0\n",
    "while True:\n",
    "    i += 1\n",
    "    if i == 101:\n",
    "        break\n",
    "    if i % 2 == 0:\n",
    "        continue\n",
    "    sum1 += i\n",
    "print(sum1)"
   ]
  },
  {
   "cell_type": "code",
   "execution_count": 106,
   "id": "551201da",
   "metadata": {},
   "outputs": [
    {
     "name": "stdout",
     "output_type": "stream",
     "text": [
      "104\n"
     ]
    }
   ],
   "source": [
    "# 리스트에 있는 합을 구하시오\n",
    "l = [3, 20, 48, 33]\n",
    "sum1 = 0\n",
    "num = l[0]\n",
    "sum1 = sum1 + num\n",
    "num = l[1]\n",
    "sum1 = sum1 + num\n",
    "num = l[2]\n",
    "sum1 = sum1 + num\n",
    "num = l[3]\n",
    "sum1 = sum1 + num\n",
    "\n",
    "sum1 = 0\n",
    "idx = 0\n",
    "while idx <= 3:\n",
    "    num = l[idx]\n",
    "    sum1 = sum1 + num\n",
    "    idx += 1\n",
    "print(sum1)\n",
    "\n",
    "sum1 = 0\n",
    "idx = 0\n",
    "size = len(l) #4\n",
    "while idx < size:\n",
    "    num = l[idx]\n",
    "    idx += 1\n",
    "    sum1 = sum1 + num\n",
    "print(sum1)"
   ]
  },
  {
   "cell_type": "code",
   "execution_count": 104,
   "id": "c5b3c67c",
   "metadata": {},
   "outputs": [
    {
     "name": "stdout",
     "output_type": "stream",
     "text": [
      "104\n"
     ]
    }
   ],
   "source": [
    "sum1 = 0\n",
    "for num in [3, 20, 48, 33]: # num = l[i]; i += 1;\n",
    "    sum1 += num\n",
    "print(sum1)\n",
    "\n",
    "l = [3, 20, 48, 33]\n",
    "sum1 = 0 # index를 가지고 있는 자료형에 대해서 반복을 하는 경우에 사용\n",
    "for num in l: # num = l[i]; i += 1;\n",
    "    sum1 += num\n",
    "print(sum1)"
   ]
  },
  {
   "cell_type": "code",
   "execution_count": 107,
   "id": "98feea4a",
   "metadata": {},
   "outputs": [
    {
     "name": "stdout",
     "output_type": "stream",
     "text": [
      "1\n",
      "43\n",
      "5\n",
      "56\n",
      "============================================================\n",
      "1\n",
      "43\n",
      "5\n",
      "56\n"
     ]
    }
   ],
   "source": [
    "t = (1, 43, 5, 56)\n",
    "i = 0\n",
    "size = len(t)\n",
    "while i < size:\n",
    "    print(t[i])\n",
    "    i += 1\n",
    "    \n",
    "print(\"==\" * 30)\n",
    "\n",
    "for num in t:\n",
    "    print(num)"
   ]
  },
  {
   "cell_type": "code",
   "execution_count": 111,
   "id": "b2f9841d",
   "metadata": {},
   "outputs": [
    {
     "name": "stdout",
     "output_type": "stream",
     "text": [
      "5050\n",
      "============================================================\n",
      "5050\n",
      "4995\n"
     ]
    }
   ],
   "source": [
    "# 1 ~ 100의 합을 구하시오.\n",
    "i = 1\n",
    "sum1 = 0\n",
    "while i <= 100:\n",
    "    sum1 += i\n",
    "    i += 1\n",
    "print(sum1)\n",
    "print(\"==\" * 30)\n",
    "\n",
    "sum1 = 0\n",
    "for num in range(1, 1 + 100):\n",
    "    sum1 += num\n",
    "print(sum1)\n",
    "\n",
    "sum1 = 0\n",
    "for num in range(11, 11 + 90 ):\n",
    "    sum1 += num\n",
    "print(sum1)"
   ]
  },
  {
   "cell_type": "code",
   "execution_count": 115,
   "id": "85de3fe2",
   "metadata": {},
   "outputs": [
    {
     "name": "stdout",
     "output_type": "stream",
     "text": [
      "79.0\n",
      "============================================================\n",
      "79.0\n"
     ]
    }
   ],
   "source": [
    "# l = [70, 60, 55, 75, 95, 90, 80, 80, 85, 100] 의 평균을 구하시오\n",
    "# for 와 while\n",
    "l = [70, 60, 55, 75, 95, 90, 80, 80, 85, 100]\n",
    "# for\n",
    "sum1 = 0\n",
    "for num in l:\n",
    "    sum1 += num\n",
    "print(sum1 / len(l))\n",
    "\n",
    "print(\"==\" * 30)\n",
    "# while\n",
    "sum1 = 0\n",
    "idx = 0 # idx : index\n",
    "size = len(l)\n",
    "while idx < size:\n",
    "    sum1 += l[idx]\n",
    "    idx += 1\n",
    "print(sum1 / size)"
   ]
  },
  {
   "cell_type": "code",
   "execution_count": 118,
   "id": "1f15c533",
   "metadata": {
    "scrolled": true
   },
   "outputs": [
    {
     "name": "stdout",
     "output_type": "stream",
     "text": [
      "(1, 2)\n",
      "(3, 4)\n",
      "(5, 6)\n",
      "============================================================\n",
      "1 2\n",
      "3\n",
      "3 4\n",
      "7\n",
      "5 6\n",
      "11\n"
     ]
    }
   ],
   "source": [
    "l1 = [(1,2),(3,4),(5,6)]\n",
    "#       0     1     2\n",
    "for t in l1:\n",
    "    print(t)\n",
    "print(\"==\" * 30)\n",
    "for (a, b) in l1:\n",
    "    print(a, b)\n",
    "    print(a + b)"
   ]
  },
  {
   "cell_type": "code",
   "execution_count": 126,
   "id": "edce1988",
   "metadata": {},
   "outputs": [
    {
     "name": "stdout",
     "output_type": "stream",
     "text": [
      "1 2 3\n",
      "6\n",
      "4 5 6\n",
      "15\n",
      "7 8 9\n",
      "24\n",
      "(1, 2, 3)\n",
      "6\n",
      "(4, 5, 6)\n",
      "15\n",
      "(7, 8, 9)\n",
      "24\n",
      "\n"
     ]
    }
   ],
   "source": [
    "l2 = [(1,2,3),(4,5,6),(7,8,9)]\n",
    "for (a,b,c) in l2:\n",
    "    print(a,b,c)\n",
    "    print( a + b + c)\n",
    "\n",
    "for t1 in l2:\n",
    "    print(t1)\n",
    "    print(t1[0] + t1[1] + t1[2])\n",
    "''' 오류 발생    \n",
    "l2 = [(1,2,3),(4,5),(7,8,9)]\n",
    "for (a,b,c) in l2:\n",
    "    print(a,b,c)\n",
    "    print( a + b + c)\n",
    "'''\n",
    "print()"
   ]
  },
  {
   "cell_type": "code",
   "execution_count": 130,
   "id": "5c1e1c7c",
   "metadata": {},
   "outputs": [
    {
     "name": "stdout",
     "output_type": "stream",
     "text": [
      "3 * 1 = 3\n",
      "3 * 2 = 6\n",
      "3 * 3 = 9\n",
      "3 * 4 = 12\n",
      "3 * 5 = 15\n",
      "3 * 6 = 18\n",
      "3 * 7 = 21\n",
      "3 * 8 = 24\n",
      "3 * 9 = 27\n",
      "============================================================\n",
      "3 * 1 = 3\n",
      "3 * 2 = 6\n",
      "3 * 3 = 9\n",
      "3 * 4 = 12\n",
      "3 * 5 = 15\n",
      "3 * 6 = 18\n",
      "3 * 7 = 21\n",
      "3 * 8 = 24\n",
      "3 * 9 = 27\n"
     ]
    }
   ],
   "source": [
    "# 3단\n",
    "gup = 1\n",
    "while gup <= 9:\n",
    "    print(f\"3 * {gup} = {3 * gup}\")\n",
    "    gup += 1\n",
    "print(\"==\" * 30)\n",
    "for gup in range(1, 1 + 9) :\n",
    "    print(f\"3 * {gup} = {3 * gup}\")"
   ]
  },
  {
   "cell_type": "code",
   "execution_count": 132,
   "id": "93a3163c",
   "metadata": {},
   "outputs": [
    {
     "name": "stdout",
     "output_type": "stream",
     "text": [
      "3 * 1 = 3\n",
      "3 * 2 = 6\n",
      "3 * 3 = 9\n",
      "3 * 4 = 12\n",
      "3 * 5 = 15\n",
      "3 * 6 = 18\n",
      "3 * 7 = 21\n",
      "3 * 8 = 24\n",
      "3 * 9 = 27\n",
      "4 * 1 = 4\n",
      "4 * 2 = 8\n",
      "4 * 3 = 12\n",
      "4 * 4 = 16\n",
      "4 * 5 = 20\n",
      "4 * 6 = 24\n",
      "4 * 7 = 28\n",
      "4 * 8 = 32\n",
      "4 * 9 = 36\n",
      "5 * 1 = 5\n",
      "5 * 2 = 10\n",
      "5 * 3 = 15\n",
      "5 * 4 = 20\n",
      "5 * 5 = 25\n",
      "5 * 6 = 30\n",
      "5 * 7 = 35\n",
      "5 * 8 = 40\n",
      "5 * 9 = 45\n",
      "6 * 1 = 6\n",
      "6 * 2 = 12\n",
      "6 * 3 = 18\n",
      "6 * 4 = 24\n",
      "6 * 5 = 30\n",
      "6 * 6 = 36\n",
      "6 * 7 = 42\n",
      "6 * 8 = 48\n",
      "6 * 9 = 54\n",
      "============================================================\n",
      "3 * 1 = 3\n",
      "3 * 2 = 6\n",
      "3 * 3 = 9\n",
      "3 * 4 = 12\n",
      "3 * 5 = 15\n",
      "3 * 6 = 18\n",
      "3 * 7 = 21\n",
      "3 * 8 = 24\n",
      "3 * 9 = 27\n",
      "4 * 1 = 4\n",
      "4 * 2 = 8\n",
      "4 * 3 = 12\n",
      "4 * 4 = 16\n",
      "4 * 5 = 20\n",
      "4 * 6 = 24\n",
      "4 * 7 = 28\n",
      "4 * 8 = 32\n",
      "4 * 9 = 36\n",
      "5 * 1 = 5\n",
      "5 * 2 = 10\n",
      "5 * 3 = 15\n",
      "5 * 4 = 20\n",
      "5 * 5 = 25\n",
      "5 * 6 = 30\n",
      "5 * 7 = 35\n",
      "5 * 8 = 40\n",
      "5 * 9 = 45\n",
      "6 * 1 = 6\n",
      "6 * 2 = 12\n",
      "6 * 3 = 18\n",
      "6 * 4 = 24\n",
      "6 * 5 = 30\n",
      "6 * 6 = 36\n",
      "6 * 7 = 42\n",
      "6 * 8 = 48\n",
      "6 * 9 = 54\n"
     ]
    }
   ],
   "source": [
    "dan = 3\n",
    "while dan <= 6:\n",
    "    gup = 1\n",
    "    while gup <= 9:\n",
    "        print(f\"{dan} * {gup} = {dan * gup}\")\n",
    "        gup += 1\n",
    "    dan += 1\n",
    "print(\"==\" * 30)\n",
    "dan = 3\n",
    "while dan <= 6:\n",
    "    for gup in range(1, 1 + 9) :\n",
    "        print(f\"{dan} * {gup} = {dan * gup}\")\n",
    "    dan += 1\n",
    "print(\"==\" * 30)\n",
    "for dan in range(3, 3 + 4):\n",
    "    for gup in range(1, 1 + 9) :\n",
    "        print(f\"{dan} * {gup} = {dan * gup}\")\n",
    "    dan += 1"
   ]
  },
  {
   "cell_type": "code",
   "execution_count": null,
   "id": "203d402f",
   "metadata": {},
   "outputs": [],
   "source": []
  },
  {
   "cell_type": "code",
   "execution_count": null,
   "id": "f0dc5888",
   "metadata": {},
   "outputs": [],
   "source": []
  },
  {
   "cell_type": "code",
   "execution_count": null,
   "id": "e1729864",
   "metadata": {},
   "outputs": [],
   "source": []
  },
  {
   "cell_type": "code",
   "execution_count": null,
   "id": "96399406",
   "metadata": {},
   "outputs": [],
   "source": []
  },
  {
   "cell_type": "code",
   "execution_count": null,
   "id": "9d3733e1",
   "metadata": {},
   "outputs": [],
   "source": []
  },
  {
   "cell_type": "code",
   "execution_count": null,
   "id": "bc37e03b",
   "metadata": {},
   "outputs": [],
   "source": []
  },
  {
   "cell_type": "code",
   "execution_count": null,
   "id": "204cbdd0",
   "metadata": {},
   "outputs": [],
   "source": []
  }
 ],
 "metadata": {
  "kernelspec": {
   "display_name": "Python 3 (ipykernel)",
   "language": "python",
   "name": "python3"
  },
  "language_info": {
   "codemirror_mode": {
    "name": "ipython",
    "version": 3
   },
   "file_extension": ".py",
   "mimetype": "text/x-python",
   "name": "python",
   "nbconvert_exporter": "python",
   "pygments_lexer": "ipython3",
   "version": "3.11.2"
  }
 },
 "nbformat": 4,
 "nbformat_minor": 5
}
